{
 "cells": [
  {
   "cell_type": "code",
   "execution_count": 1,
   "id": "66235ba3-4855-4b50-b704-ccdb75a0352c",
   "metadata": {},
   "outputs": [],
   "source": [
    "import pandas as pd \n",
    "from sklearn.preprocessing import OneHotEncoder"
   ]
  },
  {
   "cell_type": "code",
   "execution_count": 10,
   "id": "be5f043f-4c90-4071-857e-44857c18315b",
   "metadata": {},
   "outputs": [
    {
     "data": {
      "text/html": [
       "<div>\n",
       "<style scoped>\n",
       "    .dataframe tbody tr th:only-of-type {\n",
       "        vertical-align: middle;\n",
       "    }\n",
       "\n",
       "    .dataframe tbody tr th {\n",
       "        vertical-align: top;\n",
       "    }\n",
       "\n",
       "    .dataframe thead th {\n",
       "        text-align: right;\n",
       "    }\n",
       "</style>\n",
       "<table border=\"1\" class=\"dataframe\">\n",
       "  <thead>\n",
       "    <tr style=\"text-align: right;\">\n",
       "      <th></th>\n",
       "      <th>brand</th>\n",
       "      <th>km_driven</th>\n",
       "      <th>fuel</th>\n",
       "      <th>owner</th>\n",
       "      <th>selling_price</th>\n",
       "    </tr>\n",
       "  </thead>\n",
       "  <tbody>\n",
       "    <tr>\n",
       "      <th>0</th>\n",
       "      <td>Maruti</td>\n",
       "      <td>145500</td>\n",
       "      <td>Diesel</td>\n",
       "      <td>First Owner</td>\n",
       "      <td>450000</td>\n",
       "    </tr>\n",
       "    <tr>\n",
       "      <th>1</th>\n",
       "      <td>Skoda</td>\n",
       "      <td>120000</td>\n",
       "      <td>Diesel</td>\n",
       "      <td>Second Owner</td>\n",
       "      <td>370000</td>\n",
       "    </tr>\n",
       "    <tr>\n",
       "      <th>2</th>\n",
       "      <td>Honda</td>\n",
       "      <td>140000</td>\n",
       "      <td>Petrol</td>\n",
       "      <td>Third Owner</td>\n",
       "      <td>158000</td>\n",
       "    </tr>\n",
       "    <tr>\n",
       "      <th>3</th>\n",
       "      <td>Hyundai</td>\n",
       "      <td>127000</td>\n",
       "      <td>Diesel</td>\n",
       "      <td>First Owner</td>\n",
       "      <td>225000</td>\n",
       "    </tr>\n",
       "    <tr>\n",
       "      <th>4</th>\n",
       "      <td>Maruti</td>\n",
       "      <td>120000</td>\n",
       "      <td>Petrol</td>\n",
       "      <td>First Owner</td>\n",
       "      <td>130000</td>\n",
       "    </tr>\n",
       "    <tr>\n",
       "      <th>...</th>\n",
       "      <td>...</td>\n",
       "      <td>...</td>\n",
       "      <td>...</td>\n",
       "      <td>...</td>\n",
       "      <td>...</td>\n",
       "    </tr>\n",
       "    <tr>\n",
       "      <th>8123</th>\n",
       "      <td>Hyundai</td>\n",
       "      <td>110000</td>\n",
       "      <td>Petrol</td>\n",
       "      <td>First Owner</td>\n",
       "      <td>320000</td>\n",
       "    </tr>\n",
       "    <tr>\n",
       "      <th>8124</th>\n",
       "      <td>Hyundai</td>\n",
       "      <td>119000</td>\n",
       "      <td>Diesel</td>\n",
       "      <td>Fourth &amp; Above Owner</td>\n",
       "      <td>135000</td>\n",
       "    </tr>\n",
       "    <tr>\n",
       "      <th>8125</th>\n",
       "      <td>Maruti</td>\n",
       "      <td>120000</td>\n",
       "      <td>Diesel</td>\n",
       "      <td>First Owner</td>\n",
       "      <td>382000</td>\n",
       "    </tr>\n",
       "    <tr>\n",
       "      <th>8126</th>\n",
       "      <td>Tata</td>\n",
       "      <td>25000</td>\n",
       "      <td>Diesel</td>\n",
       "      <td>First Owner</td>\n",
       "      <td>290000</td>\n",
       "    </tr>\n",
       "    <tr>\n",
       "      <th>8127</th>\n",
       "      <td>Tata</td>\n",
       "      <td>25000</td>\n",
       "      <td>Diesel</td>\n",
       "      <td>First Owner</td>\n",
       "      <td>290000</td>\n",
       "    </tr>\n",
       "  </tbody>\n",
       "</table>\n",
       "<p>8128 rows × 5 columns</p>\n",
       "</div>"
      ],
      "text/plain": [
       "        brand  km_driven    fuel                 owner  selling_price\n",
       "0      Maruti     145500  Diesel           First Owner         450000\n",
       "1       Skoda     120000  Diesel          Second Owner         370000\n",
       "2       Honda     140000  Petrol           Third Owner         158000\n",
       "3     Hyundai     127000  Diesel           First Owner         225000\n",
       "4      Maruti     120000  Petrol           First Owner         130000\n",
       "...       ...        ...     ...                   ...            ...\n",
       "8123  Hyundai     110000  Petrol           First Owner         320000\n",
       "8124  Hyundai     119000  Diesel  Fourth & Above Owner         135000\n",
       "8125   Maruti     120000  Diesel           First Owner         382000\n",
       "8126     Tata      25000  Diesel           First Owner         290000\n",
       "8127     Tata      25000  Diesel           First Owner         290000\n",
       "\n",
       "[8128 rows x 5 columns]"
      ]
     },
     "execution_count": 10,
     "metadata": {},
     "output_type": "execute_result"
    }
   ],
   "source": [
    "df2=pd.read_csv('cars.csv')\n",
    "df2 "
   ]
  },
  {
   "cell_type": "code",
   "execution_count": 11,
   "id": "942fd70e-4cfc-46c9-be07-868667c6f64e",
   "metadata": {},
   "outputs": [
    {
     "data": {
      "text/plain": [
       "Index(['brand', 'km_driven', 'fuel', 'owner', 'selling_price'], dtype='object')"
      ]
     },
     "execution_count": 11,
     "metadata": {},
     "output_type": "execute_result"
    }
   ],
   "source": [
    "df2.columns"
   ]
  },
  {
   "cell_type": "code",
   "execution_count": 12,
   "id": "4e3703b3-9149-4d9d-a33a-427eb076c3d6",
   "metadata": {},
   "outputs": [
    {
     "data": {
      "text/html": [
       "<div>\n",
       "<style scoped>\n",
       "    .dataframe tbody tr th:only-of-type {\n",
       "        vertical-align: middle;\n",
       "    }\n",
       "\n",
       "    .dataframe tbody tr th {\n",
       "        vertical-align: top;\n",
       "    }\n",
       "\n",
       "    .dataframe thead th {\n",
       "        text-align: right;\n",
       "    }\n",
       "</style>\n",
       "<table border=\"1\" class=\"dataframe\">\n",
       "  <thead>\n",
       "    <tr style=\"text-align: right;\">\n",
       "      <th></th>\n",
       "      <th>fuel</th>\n",
       "      <th>owner</th>\n",
       "      <th>selling_price</th>\n",
       "    </tr>\n",
       "  </thead>\n",
       "  <tbody>\n",
       "    <tr>\n",
       "      <th>0</th>\n",
       "      <td>Diesel</td>\n",
       "      <td>First Owner</td>\n",
       "      <td>450000</td>\n",
       "    </tr>\n",
       "    <tr>\n",
       "      <th>1</th>\n",
       "      <td>Diesel</td>\n",
       "      <td>Second Owner</td>\n",
       "      <td>370000</td>\n",
       "    </tr>\n",
       "    <tr>\n",
       "      <th>2</th>\n",
       "      <td>Petrol</td>\n",
       "      <td>Third Owner</td>\n",
       "      <td>158000</td>\n",
       "    </tr>\n",
       "    <tr>\n",
       "      <th>3</th>\n",
       "      <td>Diesel</td>\n",
       "      <td>First Owner</td>\n",
       "      <td>225000</td>\n",
       "    </tr>\n",
       "    <tr>\n",
       "      <th>4</th>\n",
       "      <td>Petrol</td>\n",
       "      <td>First Owner</td>\n",
       "      <td>130000</td>\n",
       "    </tr>\n",
       "    <tr>\n",
       "      <th>...</th>\n",
       "      <td>...</td>\n",
       "      <td>...</td>\n",
       "      <td>...</td>\n",
       "    </tr>\n",
       "    <tr>\n",
       "      <th>8123</th>\n",
       "      <td>Petrol</td>\n",
       "      <td>First Owner</td>\n",
       "      <td>320000</td>\n",
       "    </tr>\n",
       "    <tr>\n",
       "      <th>8124</th>\n",
       "      <td>Diesel</td>\n",
       "      <td>Fourth &amp; Above Owner</td>\n",
       "      <td>135000</td>\n",
       "    </tr>\n",
       "    <tr>\n",
       "      <th>8125</th>\n",
       "      <td>Diesel</td>\n",
       "      <td>First Owner</td>\n",
       "      <td>382000</td>\n",
       "    </tr>\n",
       "    <tr>\n",
       "      <th>8126</th>\n",
       "      <td>Diesel</td>\n",
       "      <td>First Owner</td>\n",
       "      <td>290000</td>\n",
       "    </tr>\n",
       "    <tr>\n",
       "      <th>8127</th>\n",
       "      <td>Diesel</td>\n",
       "      <td>First Owner</td>\n",
       "      <td>290000</td>\n",
       "    </tr>\n",
       "  </tbody>\n",
       "</table>\n",
       "<p>8128 rows × 3 columns</p>\n",
       "</div>"
      ],
      "text/plain": [
       "        fuel                 owner  selling_price\n",
       "0     Diesel           First Owner         450000\n",
       "1     Diesel          Second Owner         370000\n",
       "2     Petrol           Third Owner         158000\n",
       "3     Diesel           First Owner         225000\n",
       "4     Petrol           First Owner         130000\n",
       "...      ...                   ...            ...\n",
       "8123  Petrol           First Owner         320000\n",
       "8124  Diesel  Fourth & Above Owner         135000\n",
       "8125  Diesel           First Owner         382000\n",
       "8126  Diesel           First Owner         290000\n",
       "8127  Diesel           First Owner         290000\n",
       "\n",
       "[8128 rows x 3 columns]"
      ]
     },
     "execution_count": 12,
     "metadata": {},
     "output_type": "execute_result"
    }
   ],
   "source": [
    "df=df2[['fuel','owner','selling_price']]\n",
    "df  "
   ]
  },
  {
   "cell_type": "code",
   "execution_count": 13,
   "id": "e980a9d9-d665-44fa-bf5f-ba181613b9ce",
   "metadata": {},
   "outputs": [],
   "source": [
    "from sklearn.model_selection import train_test_split\n",
    "x_train,x_test,y_train,y_test=train_test_split(df[['fuel','owner']],df[['selling_price']],train_size=0.9,random_state=42)\n"
   ]
  },
  {
   "cell_type": "code",
   "execution_count": 14,
   "id": "e9cc9307-ea48-4116-b5c5-a229b832a9ca",
   "metadata": {},
   "outputs": [
    {
     "data": {
      "text/html": [
       "<div>\n",
       "<style scoped>\n",
       "    .dataframe tbody tr th:only-of-type {\n",
       "        vertical-align: middle;\n",
       "    }\n",
       "\n",
       "    .dataframe tbody tr th {\n",
       "        vertical-align: top;\n",
       "    }\n",
       "\n",
       "    .dataframe thead th {\n",
       "        text-align: right;\n",
       "    }\n",
       "</style>\n",
       "<table border=\"1\" class=\"dataframe\">\n",
       "  <thead>\n",
       "    <tr style=\"text-align: right;\">\n",
       "      <th></th>\n",
       "      <th>fuel</th>\n",
       "      <th>owner</th>\n",
       "    </tr>\n",
       "  </thead>\n",
       "  <tbody>\n",
       "    <tr>\n",
       "      <th>7287</th>\n",
       "      <td>Diesel</td>\n",
       "      <td>First Owner</td>\n",
       "    </tr>\n",
       "    <tr>\n",
       "      <th>3027</th>\n",
       "      <td>Diesel</td>\n",
       "      <td>Third Owner</td>\n",
       "    </tr>\n",
       "    <tr>\n",
       "      <th>2941</th>\n",
       "      <td>Petrol</td>\n",
       "      <td>First Owner</td>\n",
       "    </tr>\n",
       "    <tr>\n",
       "      <th>4269</th>\n",
       "      <td>Diesel</td>\n",
       "      <td>First Owner</td>\n",
       "    </tr>\n",
       "    <tr>\n",
       "      <th>3182</th>\n",
       "      <td>Diesel</td>\n",
       "      <td>First Owner</td>\n",
       "    </tr>\n",
       "    <tr>\n",
       "      <th>...</th>\n",
       "      <td>...</td>\n",
       "      <td>...</td>\n",
       "    </tr>\n",
       "    <tr>\n",
       "      <th>5226</th>\n",
       "      <td>Diesel</td>\n",
       "      <td>First Owner</td>\n",
       "    </tr>\n",
       "    <tr>\n",
       "      <th>5390</th>\n",
       "      <td>Diesel</td>\n",
       "      <td>Second Owner</td>\n",
       "    </tr>\n",
       "    <tr>\n",
       "      <th>860</th>\n",
       "      <td>Petrol</td>\n",
       "      <td>First Owner</td>\n",
       "    </tr>\n",
       "    <tr>\n",
       "      <th>7603</th>\n",
       "      <td>Diesel</td>\n",
       "      <td>First Owner</td>\n",
       "    </tr>\n",
       "    <tr>\n",
       "      <th>7270</th>\n",
       "      <td>Petrol</td>\n",
       "      <td>Second Owner</td>\n",
       "    </tr>\n",
       "  </tbody>\n",
       "</table>\n",
       "<p>7315 rows × 2 columns</p>\n",
       "</div>"
      ],
      "text/plain": [
       "        fuel         owner\n",
       "7287  Diesel   First Owner\n",
       "3027  Diesel   Third Owner\n",
       "2941  Petrol   First Owner\n",
       "4269  Diesel   First Owner\n",
       "3182  Diesel   First Owner\n",
       "...      ...           ...\n",
       "5226  Diesel   First Owner\n",
       "5390  Diesel  Second Owner\n",
       "860   Petrol   First Owner\n",
       "7603  Diesel   First Owner\n",
       "7270  Petrol  Second Owner\n",
       "\n",
       "[7315 rows x 2 columns]"
      ]
     },
     "execution_count": 14,
     "metadata": {},
     "output_type": "execute_result"
    }
   ],
   "source": [
    "x_train"
   ]
  },
  {
   "cell_type": "code",
   "execution_count": 18,
   "id": "2c46f28c-659e-414d-bb97-8ba9a65a82ba",
   "metadata": {},
   "outputs": [
    {
     "data": {
      "text/html": [
       "<div>\n",
       "<style scoped>\n",
       "    .dataframe tbody tr th:only-of-type {\n",
       "        vertical-align: middle;\n",
       "    }\n",
       "\n",
       "    .dataframe tbody tr th {\n",
       "        vertical-align: top;\n",
       "    }\n",
       "\n",
       "    .dataframe thead th {\n",
       "        text-align: right;\n",
       "    }\n",
       "</style>\n",
       "<table border=\"1\" class=\"dataframe\">\n",
       "  <thead>\n",
       "    <tr style=\"text-align: right;\">\n",
       "      <th></th>\n",
       "      <th>fuel</th>\n",
       "      <th>owner</th>\n",
       "    </tr>\n",
       "  </thead>\n",
       "  <tbody>\n",
       "    <tr>\n",
       "      <th>1971</th>\n",
       "      <td>Petrol</td>\n",
       "      <td>Third Owner</td>\n",
       "    </tr>\n",
       "    <tr>\n",
       "      <th>4664</th>\n",
       "      <td>Diesel</td>\n",
       "      <td>First Owner</td>\n",
       "    </tr>\n",
       "    <tr>\n",
       "      <th>5448</th>\n",
       "      <td>Diesel</td>\n",
       "      <td>First Owner</td>\n",
       "    </tr>\n",
       "    <tr>\n",
       "      <th>3333</th>\n",
       "      <td>Petrol</td>\n",
       "      <td>Second Owner</td>\n",
       "    </tr>\n",
       "    <tr>\n",
       "      <th>2316</th>\n",
       "      <td>Diesel</td>\n",
       "      <td>Second Owner</td>\n",
       "    </tr>\n",
       "    <tr>\n",
       "      <th>...</th>\n",
       "      <td>...</td>\n",
       "      <td>...</td>\n",
       "    </tr>\n",
       "    <tr>\n",
       "      <th>641</th>\n",
       "      <td>Diesel</td>\n",
       "      <td>First Owner</td>\n",
       "    </tr>\n",
       "    <tr>\n",
       "      <th>3815</th>\n",
       "      <td>Diesel</td>\n",
       "      <td>First Owner</td>\n",
       "    </tr>\n",
       "    <tr>\n",
       "      <th>6926</th>\n",
       "      <td>Diesel</td>\n",
       "      <td>First Owner</td>\n",
       "    </tr>\n",
       "    <tr>\n",
       "      <th>1025</th>\n",
       "      <td>Petrol</td>\n",
       "      <td>Fourth &amp; Above Owner</td>\n",
       "    </tr>\n",
       "    <tr>\n",
       "      <th>6290</th>\n",
       "      <td>Petrol</td>\n",
       "      <td>First Owner</td>\n",
       "    </tr>\n",
       "  </tbody>\n",
       "</table>\n",
       "<p>813 rows × 2 columns</p>\n",
       "</div>"
      ],
      "text/plain": [
       "        fuel                 owner\n",
       "1971  Petrol           Third Owner\n",
       "4664  Diesel           First Owner\n",
       "5448  Diesel           First Owner\n",
       "3333  Petrol          Second Owner\n",
       "2316  Diesel          Second Owner\n",
       "...      ...                   ...\n",
       "641   Diesel           First Owner\n",
       "3815  Diesel           First Owner\n",
       "6926  Diesel           First Owner\n",
       "1025  Petrol  Fourth & Above Owner\n",
       "6290  Petrol           First Owner\n",
       "\n",
       "[813 rows x 2 columns]"
      ]
     },
     "execution_count": 18,
     "metadata": {},
     "output_type": "execute_result"
    }
   ],
   "source": [
    "x_test "
   ]
  },
  {
   "cell_type": "code",
   "execution_count": 20,
   "id": "bb9d4919-fd56-4d4a-9b89-da3f1b82465d",
   "metadata": {},
   "outputs": [],
   "source": [
    "ohe_fuel=OneHotEncoder(handle_unknown='ignore',sparse_output=False,drop='first')\n",
    "ohe_owner=OneHotEncoder(handle_unknown='ignore',sparse_output=False,drop='first')\n"
   ]
  },
  {
   "cell_type": "code",
   "execution_count": 22,
   "id": "23aa1230-389e-4b70-8f74-e4f961ee8593",
   "metadata": {},
   "outputs": [],
   "source": [
    "x_train_fuel=ohe_fuel.fit_transform(x_train[['fuel']])\n",
    "x_train_owner=ohe_owner.fit_transform(x_train[['owner']])\n",
    "\n",
    "\n",
    "x_test_fuel=ohe_fuel.transform(x_test[['fuel']])\n",
    "x_test_owner=ohe_owner.transform(x_test[['owner']])\n",
    "\n"
   ]
  },
  {
   "cell_type": "code",
   "execution_count": 23,
   "id": "e98e5d50-5691-40a8-bdeb-93f508a3ebfc",
   "metadata": {},
   "outputs": [
    {
     "data": {
      "text/plain": [
       "array([[1., 0., 0.],\n",
       "       [1., 0., 0.],\n",
       "       [0., 0., 1.],\n",
       "       ...,\n",
       "       [0., 0., 1.],\n",
       "       [1., 0., 0.],\n",
       "       [0., 0., 1.]])"
      ]
     },
     "execution_count": 23,
     "metadata": {},
     "output_type": "execute_result"
    }
   ],
   "source": [
    "x_train_fuel\n"
   ]
  },
  {
   "cell_type": "code",
   "execution_count": 24,
   "id": "e33d69af-8cbd-460d-8893-cdde78e23508",
   "metadata": {},
   "outputs": [
    {
     "data": {
      "text/plain": [
       "array([[0., 0., 0., 0.],\n",
       "       [0., 0., 0., 1.],\n",
       "       [0., 0., 0., 0.],\n",
       "       ...,\n",
       "       [0., 0., 0., 0.],\n",
       "       [0., 0., 0., 0.],\n",
       "       [0., 1., 0., 0.]])"
      ]
     },
     "execution_count": 24,
     "metadata": {},
     "output_type": "execute_result"
    }
   ],
   "source": [
    "x_train_owner"
   ]
  },
  {
   "cell_type": "code",
   "execution_count": 25,
   "id": "2f46c4eb-a7c8-4de5-a5ea-0140239ce940",
   "metadata": {},
   "outputs": [
    {
     "data": {
      "text/plain": [
       "array([[0., 0., 1.],\n",
       "       [1., 0., 0.],\n",
       "       [1., 0., 0.],\n",
       "       ...,\n",
       "       [1., 0., 0.],\n",
       "       [0., 0., 1.],\n",
       "       [0., 0., 1.]])"
      ]
     },
     "execution_count": 25,
     "metadata": {},
     "output_type": "execute_result"
    }
   ],
   "source": [
    "x_test_fuel"
   ]
  },
  {
   "cell_type": "code",
   "execution_count": 27,
   "id": "5b1762ca-ec14-4d1f-8635-54b4d775703f",
   "metadata": {},
   "outputs": [
    {
     "data": {
      "text/plain": [
       "array([[0., 0., 0., 1.],\n",
       "       [0., 0., 0., 0.],\n",
       "       [0., 0., 0., 0.],\n",
       "       ...,\n",
       "       [0., 0., 0., 0.],\n",
       "       [1., 0., 0., 0.],\n",
       "       [0., 0., 0., 0.]])"
      ]
     },
     "execution_count": 27,
     "metadata": {},
     "output_type": "execute_result"
    }
   ],
   "source": [
    "x_test_owner"
   ]
  }
 ],
 "metadata": {
  "kernelspec": {
   "display_name": "Python 3 (ipykernel)",
   "language": "python",
   "name": "python3"
  },
  "language_info": {
   "codemirror_mode": {
    "name": "ipython",
    "version": 3
   },
   "file_extension": ".py",
   "mimetype": "text/x-python",
   "name": "python",
   "nbconvert_exporter": "python",
   "pygments_lexer": "ipython3",
   "version": "3.12.2"
  }
 },
 "nbformat": 4,
 "nbformat_minor": 5
}
