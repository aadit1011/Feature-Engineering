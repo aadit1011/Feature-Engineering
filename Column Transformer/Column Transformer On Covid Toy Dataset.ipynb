{
 "cells": [
  {
   "cell_type": "code",
   "execution_count": 68,
   "id": "775eea13-7809-48c2-bfbe-adea402879c4",
   "metadata": {},
   "outputs": [],
   "source": [
    "import pandas as pd \n",
    "import numpy as np \n",
    "import matplotlib.pyplot as plt "
   ]
  },
  {
   "cell_type": "code",
   "execution_count": 2,
   "id": "e8c6369b-29e4-446b-8350-20e84cb719bd",
   "metadata": {},
   "outputs": [
    {
     "data": {
      "text/html": [
       "<div>\n",
       "<style scoped>\n",
       "    .dataframe tbody tr th:only-of-type {\n",
       "        vertical-align: middle;\n",
       "    }\n",
       "\n",
       "    .dataframe tbody tr th {\n",
       "        vertical-align: top;\n",
       "    }\n",
       "\n",
       "    .dataframe thead th {\n",
       "        text-align: right;\n",
       "    }\n",
       "</style>\n",
       "<table border=\"1\" class=\"dataframe\">\n",
       "  <thead>\n",
       "    <tr style=\"text-align: right;\">\n",
       "      <th></th>\n",
       "      <th>age</th>\n",
       "      <th>gender</th>\n",
       "      <th>fever</th>\n",
       "      <th>cough</th>\n",
       "      <th>city</th>\n",
       "      <th>has_covid</th>\n",
       "    </tr>\n",
       "  </thead>\n",
       "  <tbody>\n",
       "    <tr>\n",
       "      <th>0</th>\n",
       "      <td>60</td>\n",
       "      <td>Male</td>\n",
       "      <td>103.0</td>\n",
       "      <td>Mild</td>\n",
       "      <td>Kolkata</td>\n",
       "      <td>No</td>\n",
       "    </tr>\n",
       "    <tr>\n",
       "      <th>1</th>\n",
       "      <td>27</td>\n",
       "      <td>Male</td>\n",
       "      <td>100.0</td>\n",
       "      <td>Mild</td>\n",
       "      <td>Delhi</td>\n",
       "      <td>Yes</td>\n",
       "    </tr>\n",
       "    <tr>\n",
       "      <th>2</th>\n",
       "      <td>42</td>\n",
       "      <td>Male</td>\n",
       "      <td>101.0</td>\n",
       "      <td>Mild</td>\n",
       "      <td>Delhi</td>\n",
       "      <td>No</td>\n",
       "    </tr>\n",
       "    <tr>\n",
       "      <th>3</th>\n",
       "      <td>31</td>\n",
       "      <td>Female</td>\n",
       "      <td>98.0</td>\n",
       "      <td>Mild</td>\n",
       "      <td>Kolkata</td>\n",
       "      <td>No</td>\n",
       "    </tr>\n",
       "    <tr>\n",
       "      <th>4</th>\n",
       "      <td>65</td>\n",
       "      <td>Female</td>\n",
       "      <td>101.0</td>\n",
       "      <td>Mild</td>\n",
       "      <td>Mumbai</td>\n",
       "      <td>No</td>\n",
       "    </tr>\n",
       "    <tr>\n",
       "      <th>...</th>\n",
       "      <td>...</td>\n",
       "      <td>...</td>\n",
       "      <td>...</td>\n",
       "      <td>...</td>\n",
       "      <td>...</td>\n",
       "      <td>...</td>\n",
       "    </tr>\n",
       "    <tr>\n",
       "      <th>95</th>\n",
       "      <td>12</td>\n",
       "      <td>Female</td>\n",
       "      <td>104.0</td>\n",
       "      <td>Mild</td>\n",
       "      <td>Bangalore</td>\n",
       "      <td>No</td>\n",
       "    </tr>\n",
       "    <tr>\n",
       "      <th>96</th>\n",
       "      <td>51</td>\n",
       "      <td>Female</td>\n",
       "      <td>101.0</td>\n",
       "      <td>Strong</td>\n",
       "      <td>Kolkata</td>\n",
       "      <td>Yes</td>\n",
       "    </tr>\n",
       "    <tr>\n",
       "      <th>97</th>\n",
       "      <td>20</td>\n",
       "      <td>Female</td>\n",
       "      <td>101.0</td>\n",
       "      <td>Mild</td>\n",
       "      <td>Bangalore</td>\n",
       "      <td>No</td>\n",
       "    </tr>\n",
       "    <tr>\n",
       "      <th>98</th>\n",
       "      <td>5</td>\n",
       "      <td>Female</td>\n",
       "      <td>98.0</td>\n",
       "      <td>Strong</td>\n",
       "      <td>Mumbai</td>\n",
       "      <td>No</td>\n",
       "    </tr>\n",
       "    <tr>\n",
       "      <th>99</th>\n",
       "      <td>10</td>\n",
       "      <td>Female</td>\n",
       "      <td>98.0</td>\n",
       "      <td>Strong</td>\n",
       "      <td>Kolkata</td>\n",
       "      <td>Yes</td>\n",
       "    </tr>\n",
       "  </tbody>\n",
       "</table>\n",
       "<p>100 rows × 6 columns</p>\n",
       "</div>"
      ],
      "text/plain": [
       "    age  gender  fever   cough       city has_covid\n",
       "0    60    Male  103.0    Mild    Kolkata        No\n",
       "1    27    Male  100.0    Mild      Delhi       Yes\n",
       "2    42    Male  101.0    Mild      Delhi        No\n",
       "3    31  Female   98.0    Mild    Kolkata        No\n",
       "4    65  Female  101.0    Mild     Mumbai        No\n",
       "..  ...     ...    ...     ...        ...       ...\n",
       "95   12  Female  104.0    Mild  Bangalore        No\n",
       "96   51  Female  101.0  Strong    Kolkata       Yes\n",
       "97   20  Female  101.0    Mild  Bangalore        No\n",
       "98    5  Female   98.0  Strong     Mumbai        No\n",
       "99   10  Female   98.0  Strong    Kolkata       Yes\n",
       "\n",
       "[100 rows x 6 columns]"
      ]
     },
     "execution_count": 2,
     "metadata": {},
     "output_type": "execute_result"
    }
   ],
   "source": [
    "df=pd.read_csv('covid_toy.csv')\n",
    "df "
   ]
  },
  {
   "cell_type": "code",
   "execution_count": null,
   "id": "0c84c509-b856-4502-a282-5aa824378020",
   "metadata": {},
   "outputs": [],
   "source": []
  },
  {
   "cell_type": "code",
   "execution_count": 3,
   "id": "874cb188-6be7-4647-9ba6-d62c6295644b",
   "metadata": {},
   "outputs": [
    {
     "data": {
      "text/html": [
       "<div>\n",
       "<style scoped>\n",
       "    .dataframe tbody tr th:only-of-type {\n",
       "        vertical-align: middle;\n",
       "    }\n",
       "\n",
       "    .dataframe tbody tr th {\n",
       "        vertical-align: top;\n",
       "    }\n",
       "\n",
       "    .dataframe thead th {\n",
       "        text-align: right;\n",
       "    }\n",
       "</style>\n",
       "<table border=\"1\" class=\"dataframe\">\n",
       "  <thead>\n",
       "    <tr style=\"text-align: right;\">\n",
       "      <th></th>\n",
       "      <th>age</th>\n",
       "      <th>gender</th>\n",
       "      <th>fever</th>\n",
       "      <th>cough</th>\n",
       "      <th>city</th>\n",
       "      <th>has_covid</th>\n",
       "    </tr>\n",
       "  </thead>\n",
       "  <tbody>\n",
       "    <tr>\n",
       "      <th>10</th>\n",
       "      <td>75</td>\n",
       "      <td>Female</td>\n",
       "      <td>NaN</td>\n",
       "      <td>Mild</td>\n",
       "      <td>Delhi</td>\n",
       "      <td>No</td>\n",
       "    </tr>\n",
       "    <tr>\n",
       "      <th>37</th>\n",
       "      <td>55</td>\n",
       "      <td>Male</td>\n",
       "      <td>100.0</td>\n",
       "      <td>Mild</td>\n",
       "      <td>Kolkata</td>\n",
       "      <td>No</td>\n",
       "    </tr>\n",
       "    <tr>\n",
       "      <th>71</th>\n",
       "      <td>75</td>\n",
       "      <td>Female</td>\n",
       "      <td>104.0</td>\n",
       "      <td>Strong</td>\n",
       "      <td>Delhi</td>\n",
       "      <td>No</td>\n",
       "    </tr>\n",
       "    <tr>\n",
       "      <th>59</th>\n",
       "      <td>6</td>\n",
       "      <td>Female</td>\n",
       "      <td>104.0</td>\n",
       "      <td>Mild</td>\n",
       "      <td>Kolkata</td>\n",
       "      <td>Yes</td>\n",
       "    </tr>\n",
       "    <tr>\n",
       "      <th>61</th>\n",
       "      <td>81</td>\n",
       "      <td>Female</td>\n",
       "      <td>98.0</td>\n",
       "      <td>Strong</td>\n",
       "      <td>Mumbai</td>\n",
       "      <td>No</td>\n",
       "    </tr>\n",
       "    <tr>\n",
       "      <th>99</th>\n",
       "      <td>10</td>\n",
       "      <td>Female</td>\n",
       "      <td>98.0</td>\n",
       "      <td>Strong</td>\n",
       "      <td>Kolkata</td>\n",
       "      <td>Yes</td>\n",
       "    </tr>\n",
       "    <tr>\n",
       "      <th>31</th>\n",
       "      <td>83</td>\n",
       "      <td>Male</td>\n",
       "      <td>103.0</td>\n",
       "      <td>Mild</td>\n",
       "      <td>Kolkata</td>\n",
       "      <td>No</td>\n",
       "    </tr>\n",
       "    <tr>\n",
       "      <th>2</th>\n",
       "      <td>42</td>\n",
       "      <td>Male</td>\n",
       "      <td>101.0</td>\n",
       "      <td>Mild</td>\n",
       "      <td>Delhi</td>\n",
       "      <td>No</td>\n",
       "    </tr>\n",
       "    <tr>\n",
       "      <th>17</th>\n",
       "      <td>40</td>\n",
       "      <td>Female</td>\n",
       "      <td>98.0</td>\n",
       "      <td>Strong</td>\n",
       "      <td>Delhi</td>\n",
       "      <td>No</td>\n",
       "    </tr>\n",
       "    <tr>\n",
       "      <th>73</th>\n",
       "      <td>34</td>\n",
       "      <td>Male</td>\n",
       "      <td>98.0</td>\n",
       "      <td>Strong</td>\n",
       "      <td>Kolkata</td>\n",
       "      <td>Yes</td>\n",
       "    </tr>\n",
       "  </tbody>\n",
       "</table>\n",
       "</div>"
      ],
      "text/plain": [
       "    age  gender  fever   cough     city has_covid\n",
       "10   75  Female    NaN    Mild    Delhi        No\n",
       "37   55    Male  100.0    Mild  Kolkata        No\n",
       "71   75  Female  104.0  Strong    Delhi        No\n",
       "59    6  Female  104.0    Mild  Kolkata       Yes\n",
       "61   81  Female   98.0  Strong   Mumbai        No\n",
       "99   10  Female   98.0  Strong  Kolkata       Yes\n",
       "31   83    Male  103.0    Mild  Kolkata        No\n",
       "2    42    Male  101.0    Mild    Delhi        No\n",
       "17   40  Female   98.0  Strong    Delhi        No\n",
       "73   34    Male   98.0  Strong  Kolkata       Yes"
      ]
     },
     "execution_count": 3,
     "metadata": {},
     "output_type": "execute_result"
    }
   ],
   "source": [
    "df.sample(10)"
   ]
  },
  {
   "cell_type": "code",
   "execution_count": 4,
   "id": "784e6ab8-7215-46ed-8526-b8a40555f4c9",
   "metadata": {},
   "outputs": [
    {
     "name": "stdout",
     "output_type": "stream",
     "text": [
      "<class 'pandas.core.frame.DataFrame'>\n",
      "RangeIndex: 100 entries, 0 to 99\n",
      "Data columns (total 6 columns):\n",
      " #   Column     Non-Null Count  Dtype  \n",
      "---  ------     --------------  -----  \n",
      " 0   age        100 non-null    int64  \n",
      " 1   gender     100 non-null    object \n",
      " 2   fever      90 non-null     float64\n",
      " 3   cough      100 non-null    object \n",
      " 4   city       100 non-null    object \n",
      " 5   has_covid  100 non-null    object \n",
      "dtypes: float64(1), int64(1), object(4)\n",
      "memory usage: 4.8+ KB\n"
     ]
    }
   ],
   "source": [
    "df.info()"
   ]
  },
  {
   "cell_type": "code",
   "execution_count": 5,
   "id": "ac311fef-adaa-4ab5-9fd0-ece331a1ad7a",
   "metadata": {},
   "outputs": [
    {
     "data": {
      "text/plain": [
       "age           0\n",
       "gender        0\n",
       "fever        10\n",
       "cough         0\n",
       "city          0\n",
       "has_covid     0\n",
       "dtype: int64"
      ]
     },
     "execution_count": 5,
     "metadata": {},
     "output_type": "execute_result"
    }
   ],
   "source": [
    "df.isna().sum()"
   ]
  },
  {
   "cell_type": "code",
   "execution_count": 6,
   "id": "4242d1fa-7fc1-4a7b-85bd-7477ea47de0b",
   "metadata": {},
   "outputs": [
    {
     "data": {
      "text/plain": [
       "age          False\n",
       "gender       False\n",
       "fever         True\n",
       "cough        False\n",
       "city         False\n",
       "has_covid    False\n",
       "dtype: bool"
      ]
     },
     "execution_count": 6,
     "metadata": {},
     "output_type": "execute_result"
    }
   ],
   "source": [
    "df.isna().any()"
   ]
  },
  {
   "cell_type": "markdown",
   "id": "136395e8-1c3a-4e0a-ae41-0b0f70a8fd87",
   "metadata": {},
   "source": [
    "# For HAndling Missing VAlues import Imputer "
   ]
  },
  {
   "cell_type": "code",
   "execution_count": null,
   "id": "29762147-c531-4502-b48e-c147bfbad06a",
   "metadata": {},
   "outputs": [],
   "source": []
  },
  {
   "cell_type": "code",
   "execution_count": 7,
   "id": "2c3dba87-7729-448f-8aa3-821515d5771a",
   "metadata": {},
   "outputs": [],
   "source": [
    "from sklearn.impute import SimpleImputer\n",
    "from sklearn.preprocessing import OneHotEncoder\n",
    "from sklearn.preprocessing import OrdinalEncoder"
   ]
  },
  {
   "cell_type": "code",
   "execution_count": 8,
   "id": "cb91c133-96c8-4082-b583-20698b26559c",
   "metadata": {},
   "outputs": [],
   "source": [
    "si=SimpleImputer()"
   ]
  },
  {
   "cell_type": "code",
   "execution_count": 9,
   "id": "b0b976a3-c707-492d-a8be-14439d973169",
   "metadata": {},
   "outputs": [
    {
     "data": {
      "text/plain": [
       "array([60, 27, 42, 31, 65, 84, 14, 20, 19, 64, 75, 25, 51, 70, 69, 40, 12,\n",
       "       73, 71, 80, 13, 23, 33, 16, 34, 15, 83, 26, 74, 82, 38, 55, 49, 50,\n",
       "       22, 72, 18, 66, 44, 11, 47, 81,  6, 24, 56, 10, 54, 68,  5,  8, 48,\n",
       "       17, 46, 59, 79], dtype=int64)"
      ]
     },
     "execution_count": 9,
     "metadata": {},
     "output_type": "execute_result"
    }
   ],
   "source": [
    "\n",
    "df['age'].unique()\n"
   ]
  },
  {
   "cell_type": "code",
   "execution_count": 10,
   "id": "bc652aa6-e1e9-4a3b-9d6d-f8d5a13866f4",
   "metadata": {},
   "outputs": [],
   "source": [
    "import seaborn as sns \n"
   ]
  },
  {
   "cell_type": "code",
   "execution_count": 69,
   "id": "877a9324-e7f5-4d6a-9fe2-648c62c665f4",
   "metadata": {},
   "outputs": [
    {
     "name": "stderr",
     "output_type": "stream",
     "text": [
      "C:\\Users\\hp\\AppData\\Local\\Temp\\ipykernel_2044\\1207035257.py:1: UserWarning: \n",
      "\n",
      "`distplot` is a deprecated function and will be removed in seaborn v0.14.0.\n",
      "\n",
      "Please adapt your code to use either `displot` (a figure-level function with\n",
      "similar flexibility) or `histplot` (an axes-level function for histograms).\n",
      "\n",
      "For a guide to updating your code to use the new functions, please see\n",
      "https://gist.github.com/mwaskom/de44147ed2974457ad6372750bbe5751\n",
      "\n",
      "  sns.distplot(df['age'])\n"
     ]
    },
    {
     "data": {
      "image/png": "[encoded data removed]",
      "text/plain": [
       "<Figure size 640x480 with 1 Axes>"
      ]
     },
     "metadata": {},
     "output_type": "display_data"
    }
   ],
   "source": [
    "sns.distplot(df['age'])\n",
    "plt.savefig('age_distplot.png')\n"
   ]
  },
  {
   "cell_type": "code",
   "execution_count": 12,
   "id": "9056dbd3-2e9c-480a-b6da-fa5e7686383c",
   "metadata": {},
   "outputs": [
    {
     "data": {
      "text/plain": [
       "age\n",
       "65    4\n",
       "19    4\n",
       "34    4\n",
       "64    3\n",
       "82    3\n",
       "51    3\n",
       "83    3\n",
       "27    3\n",
       "20    3\n",
       "49    3\n",
       "42    3\n",
       "69    3\n",
       "5     3\n",
       "47    2\n",
       "14    2\n",
       "25    2\n",
       "11    2\n",
       "12    2\n",
       "73    2\n",
       "71    2\n",
       "75    2\n",
       "80    2\n",
       "81    2\n",
       "24    2\n",
       "23    2\n",
       "38    2\n",
       "60    2\n",
       "16    2\n",
       "10    2\n",
       "33    1\n",
       "50    1\n",
       "55    1\n",
       "74    1\n",
       "15    1\n",
       "70    1\n",
       "13    1\n",
       "40    1\n",
       "72    1\n",
       "84    1\n",
       "31    1\n",
       "22    1\n",
       "26    1\n",
       "18    1\n",
       "66    1\n",
       "44    1\n",
       "17    1\n",
       "68    1\n",
       "48    1\n",
       "54    1\n",
       "8     1\n",
       "46    1\n",
       "6     1\n",
       "59    1\n",
       "56    1\n",
       "79    1\n",
       "Name: count, dtype: int64"
      ]
     },
     "execution_count": 12,
     "metadata": {},
     "output_type": "execute_result"
    }
   ],
   "source": [
    "df['age'].value_counts().sort_values(ascending=False)"
   ]
  },
  {
   "cell_type": "code",
   "execution_count": 13,
   "id": "83e406a5-b242-4533-abe3-196c34df7205",
   "metadata": {},
   "outputs": [
    {
     "data": {
      "text/plain": [
       "<Axes: ylabel='age'>"
      ]
     },
     "execution_count": 13,
     "metadata": {},
     "output_type": "execute_result"
    },
    {
     "data": {
      "image/png": "[encoded data removed]",
      "text/plain": [
       "<Figure size 640x480 with 1 Axes>"
      ]
     },
     "metadata": {},
     "output_type": "display_data"
    }
   ],
   "source": [
    "sns.scatterplot(df['age'])"
   ]
  },
  {
   "cell_type": "code",
   "execution_count": 70,
   "id": "67480545-4cea-4276-bd66-9077b60fd58c",
   "metadata": {},
   "outputs": [
    {
     "data": {
      "image/png": "[encoded data removed]",
      "text/plain": [
       "<Figure size 500x500 with 1 Axes>"
      ]
     },
     "metadata": {},
     "output_type": "display_data"
    }
   ],
   "source": [
    "sns.displot(df['age'])\n",
    "plt.savefig('age_displot.png')"
   ]
  },
  {
   "cell_type": "code",
   "execution_count": 15,
   "id": "ff5a5a0a-8426-453f-b09a-6aa30aaba6b6",
   "metadata": {},
   "outputs": [
    {
     "data": {
      "text/plain": [
       "array(['Kolkata', 'Delhi', 'Mumbai', 'Bangalore'], dtype=object)"
      ]
     },
     "execution_count": 15,
     "metadata": {},
     "output_type": "execute_result"
    }
   ],
   "source": [
    "df['city'].unique()"
   ]
  },
  {
   "cell_type": "code",
   "execution_count": 16,
   "id": "59ba57ea-e693-4c53-8a03-937a87e28c08",
   "metadata": {},
   "outputs": [
    {
     "data": {
      "text/plain": [
       "array(['Mild', 'Strong'], dtype=object)"
      ]
     },
     "execution_count": 16,
     "metadata": {},
     "output_type": "execute_result"
    }
   ],
   "source": [
    "df['cough'].unique()"
   ]
  },
  {
   "cell_type": "code",
   "execution_count": 17,
   "id": "37dcfdca-9282-4cee-ac96-eb443c7206fd",
   "metadata": {},
   "outputs": [
    {
     "data": {
      "text/plain": [
       "array([103., 100., 101.,  98.,  nan,  99., 102., 104.])"
      ]
     },
     "execution_count": 17,
     "metadata": {},
     "output_type": "execute_result"
    }
   ],
   "source": [
    "df['fever'].unique()"
   ]
  },
  {
   "cell_type": "code",
   "execution_count": 18,
   "id": "bfe102d4-b0c7-4da2-b158-ef1104a1ad57",
   "metadata": {},
   "outputs": [
    {
     "data": {
      "text/plain": [
       "array(['Male', 'Female'], dtype=object)"
      ]
     },
     "execution_count": 18,
     "metadata": {},
     "output_type": "execute_result"
    }
   ],
   "source": [
    "df['gender'].unique()"
   ]
  },
  {
   "cell_type": "code",
   "execution_count": 19,
   "id": "cbc6d279-6c7d-4714-8848-a5150359edb4",
   "metadata": {},
   "outputs": [
    {
     "data": {
      "text/plain": [
       "array(['No', 'Yes'], dtype=object)"
      ]
     },
     "execution_count": 19,
     "metadata": {},
     "output_type": "execute_result"
    }
   ],
   "source": [
    "df['has_covid'].unique()"
   ]
  },
  {
   "cell_type": "code",
   "execution_count": 20,
   "id": "1da15fdf-309c-43a2-8380-03c46e835b9f",
   "metadata": {},
   "outputs": [
    {
     "data": {
      "text/plain": [
       "city\n",
       "Kolkata      32\n",
       "Bangalore    30\n",
       "Delhi        22\n",
       "Mumbai       16\n",
       "Name: count, dtype: int64"
      ]
     },
     "execution_count": 20,
     "metadata": {},
     "output_type": "execute_result"
    }
   ],
   "source": [
    "df['city'].value_counts()"
   ]
  },
  {
   "cell_type": "code",
   "execution_count": 21,
   "id": "8844ca6f-febb-4c47-a1ba-6497ac568520",
   "metadata": {},
   "outputs": [
    {
     "data": {
      "text/plain": [
       "cough\n",
       "Mild      62\n",
       "Strong    38\n",
       "Name: count, dtype: int64"
      ]
     },
     "execution_count": 21,
     "metadata": {},
     "output_type": "execute_result"
    }
   ],
   "source": [
    "df['cough'].value_counts()"
   ]
  },
  {
   "cell_type": "code",
   "execution_count": 22,
   "id": "49facb2d-f0e3-4c28-a7e7-94d3a8a32fc6",
   "metadata": {},
   "outputs": [
    {
     "data": {
      "text/plain": [
       "fever\n",
       "101.0    17\n",
       "98.0     17\n",
       "104.0    14\n",
       "100.0    13\n",
       "99.0     10\n",
       "102.0    10\n",
       "103.0     9\n",
       "Name: count, dtype: int64"
      ]
     },
     "execution_count": 22,
     "metadata": {},
     "output_type": "execute_result"
    }
   ],
   "source": [
    "df['fever'].value_counts()"
   ]
  },
  {
   "cell_type": "code",
   "execution_count": 23,
   "id": "42bcfc50-066b-457b-93bc-8eb067453f39",
   "metadata": {},
   "outputs": [
    {
     "data": {
      "text/plain": [
       "gender\n",
       "Female    59\n",
       "Male      41\n",
       "Name: count, dtype: int64"
      ]
     },
     "execution_count": 23,
     "metadata": {},
     "output_type": "execute_result"
    }
   ],
   "source": [
    "df['gender'].value_counts()"
   ]
  },
  {
   "cell_type": "code",
   "execution_count": 24,
   "id": "dddbb9d2-aecc-48ad-829c-1efc9c4c2e11",
   "metadata": {},
   "outputs": [
    {
     "data": {
      "text/plain": [
       "has_covid\n",
       "No     55\n",
       "Yes    45\n",
       "Name: count, dtype: int64"
      ]
     },
     "execution_count": 24,
     "metadata": {},
     "output_type": "execute_result"
    }
   ],
   "source": [
    "df['has_covid'].value_counts()"
   ]
  },
  {
   "cell_type": "code",
   "execution_count": null,
   "id": "4cec9196-70ce-4d9e-bfee-4fbd67dba53e",
   "metadata": {},
   "outputs": [],
   "source": []
  },
  {
   "cell_type": "code",
   "execution_count": 25,
   "id": "efb3d98f-5b31-4dc5-b3a1-2a1bbbe02fd4",
   "metadata": {},
   "outputs": [
    {
     "data": {
      "text/html": [
       "<div>\n",
       "<style scoped>\n",
       "    .dataframe tbody tr th:only-of-type {\n",
       "        vertical-align: middle;\n",
       "    }\n",
       "\n",
       "    .dataframe tbody tr th {\n",
       "        vertical-align: top;\n",
       "    }\n",
       "\n",
       "    .dataframe thead th {\n",
       "        text-align: right;\n",
       "    }\n",
       "</style>\n",
       "<table border=\"1\" class=\"dataframe\">\n",
       "  <thead>\n",
       "    <tr style=\"text-align: right;\">\n",
       "      <th></th>\n",
       "      <th>age</th>\n",
       "      <th>gender</th>\n",
       "      <th>fever</th>\n",
       "      <th>cough</th>\n",
       "      <th>city</th>\n",
       "      <th>has_covid</th>\n",
       "    </tr>\n",
       "  </thead>\n",
       "  <tbody>\n",
       "    <tr>\n",
       "      <th>0</th>\n",
       "      <td>60</td>\n",
       "      <td>Male</td>\n",
       "      <td>103.0</td>\n",
       "      <td>Mild</td>\n",
       "      <td>Kolkata</td>\n",
       "      <td>No</td>\n",
       "    </tr>\n",
       "    <tr>\n",
       "      <th>1</th>\n",
       "      <td>27</td>\n",
       "      <td>Male</td>\n",
       "      <td>100.0</td>\n",
       "      <td>Mild</td>\n",
       "      <td>Delhi</td>\n",
       "      <td>Yes</td>\n",
       "    </tr>\n",
       "    <tr>\n",
       "      <th>2</th>\n",
       "      <td>42</td>\n",
       "      <td>Male</td>\n",
       "      <td>101.0</td>\n",
       "      <td>Mild</td>\n",
       "      <td>Delhi</td>\n",
       "      <td>No</td>\n",
       "    </tr>\n",
       "    <tr>\n",
       "      <th>3</th>\n",
       "      <td>31</td>\n",
       "      <td>Female</td>\n",
       "      <td>98.0</td>\n",
       "      <td>Mild</td>\n",
       "      <td>Kolkata</td>\n",
       "      <td>No</td>\n",
       "    </tr>\n",
       "    <tr>\n",
       "      <th>4</th>\n",
       "      <td>65</td>\n",
       "      <td>Female</td>\n",
       "      <td>101.0</td>\n",
       "      <td>Mild</td>\n",
       "      <td>Mumbai</td>\n",
       "      <td>No</td>\n",
       "    </tr>\n",
       "    <tr>\n",
       "      <th>...</th>\n",
       "      <td>...</td>\n",
       "      <td>...</td>\n",
       "      <td>...</td>\n",
       "      <td>...</td>\n",
       "      <td>...</td>\n",
       "      <td>...</td>\n",
       "    </tr>\n",
       "    <tr>\n",
       "      <th>95</th>\n",
       "      <td>12</td>\n",
       "      <td>Female</td>\n",
       "      <td>104.0</td>\n",
       "      <td>Mild</td>\n",
       "      <td>Bangalore</td>\n",
       "      <td>No</td>\n",
       "    </tr>\n",
       "    <tr>\n",
       "      <th>96</th>\n",
       "      <td>51</td>\n",
       "      <td>Female</td>\n",
       "      <td>101.0</td>\n",
       "      <td>Strong</td>\n",
       "      <td>Kolkata</td>\n",
       "      <td>Yes</td>\n",
       "    </tr>\n",
       "    <tr>\n",
       "      <th>97</th>\n",
       "      <td>20</td>\n",
       "      <td>Female</td>\n",
       "      <td>101.0</td>\n",
       "      <td>Mild</td>\n",
       "      <td>Bangalore</td>\n",
       "      <td>No</td>\n",
       "    </tr>\n",
       "    <tr>\n",
       "      <th>98</th>\n",
       "      <td>5</td>\n",
       "      <td>Female</td>\n",
       "      <td>98.0</td>\n",
       "      <td>Strong</td>\n",
       "      <td>Mumbai</td>\n",
       "      <td>No</td>\n",
       "    </tr>\n",
       "    <tr>\n",
       "      <th>99</th>\n",
       "      <td>10</td>\n",
       "      <td>Female</td>\n",
       "      <td>98.0</td>\n",
       "      <td>Strong</td>\n",
       "      <td>Kolkata</td>\n",
       "      <td>Yes</td>\n",
       "    </tr>\n",
       "  </tbody>\n",
       "</table>\n",
       "<p>100 rows × 6 columns</p>\n",
       "</div>"
      ],
      "text/plain": [
       "    age  gender  fever   cough       city has_covid\n",
       "0    60    Male  103.0    Mild    Kolkata        No\n",
       "1    27    Male  100.0    Mild      Delhi       Yes\n",
       "2    42    Male  101.0    Mild      Delhi        No\n",
       "3    31  Female   98.0    Mild    Kolkata        No\n",
       "4    65  Female  101.0    Mild     Mumbai        No\n",
       "..  ...     ...    ...     ...        ...       ...\n",
       "95   12  Female  104.0    Mild  Bangalore        No\n",
       "96   51  Female  101.0  Strong    Kolkata       Yes\n",
       "97   20  Female  101.0    Mild  Bangalore        No\n",
       "98    5  Female   98.0  Strong     Mumbai        No\n",
       "99   10  Female   98.0  Strong    Kolkata       Yes\n",
       "\n",
       "[100 rows x 6 columns]"
      ]
     },
     "execution_count": 25,
     "metadata": {},
     "output_type": "execute_result"
    }
   ],
   "source": [
    "df "
   ]
  },
  {
   "cell_type": "code",
   "execution_count": null,
   "id": "628caed6-753e-4e08-bd89-d1b4067886bf",
   "metadata": {},
   "outputs": [],
   "source": []
  },
  {
   "cell_type": "code",
   "execution_count": 26,
   "id": "0bcbedd0-3ea8-432e-9e01-9807f6b7a730",
   "metadata": {},
   "outputs": [],
   "source": [
    "from sklearn.model_selection import train_test_split"
   ]
  },
  {
   "cell_type": "code",
   "execution_count": 27,
   "id": "13a41af2-805a-4669-90ca-2141589fc24f",
   "metadata": {},
   "outputs": [],
   "source": [
    "\n",
    "x_train,x_test,y_train,y_test=train_test_split(df.drop(columns='has_covid'),df['has_covid'],train_size=0.8,random_state=42)"
   ]
  },
  {
   "cell_type": "code",
   "execution_count": 28,
   "id": "c5d52f39-2de7-4501-8086-c99190b139c3",
   "metadata": {},
   "outputs": [
    {
     "data": {
      "text/html": [
       "<div>\n",
       "<style scoped>\n",
       "    .dataframe tbody tr th:only-of-type {\n",
       "        vertical-align: middle;\n",
       "    }\n",
       "\n",
       "    .dataframe tbody tr th {\n",
       "        vertical-align: top;\n",
       "    }\n",
       "\n",
       "    .dataframe thead th {\n",
       "        text-align: right;\n",
       "    }\n",
       "</style>\n",
       "<table border=\"1\" class=\"dataframe\">\n",
       "  <thead>\n",
       "    <tr style=\"text-align: right;\">\n",
       "      <th></th>\n",
       "      <th>age</th>\n",
       "      <th>gender</th>\n",
       "      <th>fever</th>\n",
       "      <th>cough</th>\n",
       "      <th>city</th>\n",
       "    </tr>\n",
       "  </thead>\n",
       "  <tbody>\n",
       "    <tr>\n",
       "      <th>55</th>\n",
       "      <td>81</td>\n",
       "      <td>Female</td>\n",
       "      <td>101.0</td>\n",
       "      <td>Mild</td>\n",
       "      <td>Mumbai</td>\n",
       "    </tr>\n",
       "    <tr>\n",
       "      <th>88</th>\n",
       "      <td>5</td>\n",
       "      <td>Female</td>\n",
       "      <td>100.0</td>\n",
       "      <td>Mild</td>\n",
       "      <td>Kolkata</td>\n",
       "    </tr>\n",
       "    <tr>\n",
       "      <th>26</th>\n",
       "      <td>19</td>\n",
       "      <td>Female</td>\n",
       "      <td>100.0</td>\n",
       "      <td>Mild</td>\n",
       "      <td>Kolkata</td>\n",
       "    </tr>\n",
       "    <tr>\n",
       "      <th>42</th>\n",
       "      <td>27</td>\n",
       "      <td>Male</td>\n",
       "      <td>100.0</td>\n",
       "      <td>Mild</td>\n",
       "      <td>Delhi</td>\n",
       "    </tr>\n",
       "    <tr>\n",
       "      <th>69</th>\n",
       "      <td>73</td>\n",
       "      <td>Female</td>\n",
       "      <td>103.0</td>\n",
       "      <td>Mild</td>\n",
       "      <td>Delhi</td>\n",
       "    </tr>\n",
       "    <tr>\n",
       "      <th>...</th>\n",
       "      <td>...</td>\n",
       "      <td>...</td>\n",
       "      <td>...</td>\n",
       "      <td>...</td>\n",
       "      <td>...</td>\n",
       "    </tr>\n",
       "    <tr>\n",
       "      <th>60</th>\n",
       "      <td>24</td>\n",
       "      <td>Female</td>\n",
       "      <td>102.0</td>\n",
       "      <td>Strong</td>\n",
       "      <td>Bangalore</td>\n",
       "    </tr>\n",
       "    <tr>\n",
       "      <th>71</th>\n",
       "      <td>75</td>\n",
       "      <td>Female</td>\n",
       "      <td>104.0</td>\n",
       "      <td>Strong</td>\n",
       "      <td>Delhi</td>\n",
       "    </tr>\n",
       "    <tr>\n",
       "      <th>14</th>\n",
       "      <td>51</td>\n",
       "      <td>Male</td>\n",
       "      <td>104.0</td>\n",
       "      <td>Mild</td>\n",
       "      <td>Bangalore</td>\n",
       "    </tr>\n",
       "    <tr>\n",
       "      <th>92</th>\n",
       "      <td>82</td>\n",
       "      <td>Female</td>\n",
       "      <td>102.0</td>\n",
       "      <td>Strong</td>\n",
       "      <td>Kolkata</td>\n",
       "    </tr>\n",
       "    <tr>\n",
       "      <th>51</th>\n",
       "      <td>11</td>\n",
       "      <td>Female</td>\n",
       "      <td>100.0</td>\n",
       "      <td>Strong</td>\n",
       "      <td>Kolkata</td>\n",
       "    </tr>\n",
       "  </tbody>\n",
       "</table>\n",
       "<p>80 rows × 5 columns</p>\n",
       "</div>"
      ],
      "text/plain": [
       "    age  gender  fever   cough       city\n",
       "55   81  Female  101.0    Mild     Mumbai\n",
       "88    5  Female  100.0    Mild    Kolkata\n",
       "26   19  Female  100.0    Mild    Kolkata\n",
       "42   27    Male  100.0    Mild      Delhi\n",
       "69   73  Female  103.0    Mild      Delhi\n",
       "..  ...     ...    ...     ...        ...\n",
       "60   24  Female  102.0  Strong  Bangalore\n",
       "71   75  Female  104.0  Strong      Delhi\n",
       "14   51    Male  104.0    Mild  Bangalore\n",
       "92   82  Female  102.0  Strong    Kolkata\n",
       "51   11  Female  100.0  Strong    Kolkata\n",
       "\n",
       "[80 rows x 5 columns]"
      ]
     },
     "execution_count": 28,
     "metadata": {},
     "output_type": "execute_result"
    }
   ],
   "source": [
    "x_train"
   ]
  },
  {
   "cell_type": "code",
   "execution_count": 29,
   "id": "eb9394b4-69f8-483c-a442-25a3b8eda567",
   "metadata": {},
   "outputs": [
    {
     "data": {
      "text/html": [
       "<div>\n",
       "<style scoped>\n",
       "    .dataframe tbody tr th:only-of-type {\n",
       "        vertical-align: middle;\n",
       "    }\n",
       "\n",
       "    .dataframe tbody tr th {\n",
       "        vertical-align: top;\n",
       "    }\n",
       "\n",
       "    .dataframe thead th {\n",
       "        text-align: right;\n",
       "    }\n",
       "</style>\n",
       "<table border=\"1\" class=\"dataframe\">\n",
       "  <thead>\n",
       "    <tr style=\"text-align: right;\">\n",
       "      <th></th>\n",
       "      <th>age</th>\n",
       "      <th>gender</th>\n",
       "      <th>fever</th>\n",
       "      <th>cough</th>\n",
       "      <th>city</th>\n",
       "    </tr>\n",
       "  </thead>\n",
       "  <tbody>\n",
       "    <tr>\n",
       "      <th>83</th>\n",
       "      <td>17</td>\n",
       "      <td>Female</td>\n",
       "      <td>104.0</td>\n",
       "      <td>Mild</td>\n",
       "      <td>Kolkata</td>\n",
       "    </tr>\n",
       "    <tr>\n",
       "      <th>53</th>\n",
       "      <td>83</td>\n",
       "      <td>Male</td>\n",
       "      <td>98.0</td>\n",
       "      <td>Mild</td>\n",
       "      <td>Delhi</td>\n",
       "    </tr>\n",
       "    <tr>\n",
       "      <th>70</th>\n",
       "      <td>68</td>\n",
       "      <td>Female</td>\n",
       "      <td>101.0</td>\n",
       "      <td>Strong</td>\n",
       "      <td>Delhi</td>\n",
       "    </tr>\n",
       "    <tr>\n",
       "      <th>45</th>\n",
       "      <td>72</td>\n",
       "      <td>Male</td>\n",
       "      <td>99.0</td>\n",
       "      <td>Mild</td>\n",
       "      <td>Bangalore</td>\n",
       "    </tr>\n",
       "    <tr>\n",
       "      <th>44</th>\n",
       "      <td>20</td>\n",
       "      <td>Male</td>\n",
       "      <td>102.0</td>\n",
       "      <td>Strong</td>\n",
       "      <td>Delhi</td>\n",
       "    </tr>\n",
       "    <tr>\n",
       "      <th>39</th>\n",
       "      <td>50</td>\n",
       "      <td>Female</td>\n",
       "      <td>103.0</td>\n",
       "      <td>Mild</td>\n",
       "      <td>Kolkata</td>\n",
       "    </tr>\n",
       "    <tr>\n",
       "      <th>22</th>\n",
       "      <td>71</td>\n",
       "      <td>Female</td>\n",
       "      <td>98.0</td>\n",
       "      <td>Strong</td>\n",
       "      <td>Kolkata</td>\n",
       "    </tr>\n",
       "    <tr>\n",
       "      <th>80</th>\n",
       "      <td>14</td>\n",
       "      <td>Female</td>\n",
       "      <td>99.0</td>\n",
       "      <td>Mild</td>\n",
       "      <td>Mumbai</td>\n",
       "    </tr>\n",
       "    <tr>\n",
       "      <th>10</th>\n",
       "      <td>75</td>\n",
       "      <td>Female</td>\n",
       "      <td>NaN</td>\n",
       "      <td>Mild</td>\n",
       "      <td>Delhi</td>\n",
       "    </tr>\n",
       "    <tr>\n",
       "      <th>0</th>\n",
       "      <td>60</td>\n",
       "      <td>Male</td>\n",
       "      <td>103.0</td>\n",
       "      <td>Mild</td>\n",
       "      <td>Kolkata</td>\n",
       "    </tr>\n",
       "    <tr>\n",
       "      <th>18</th>\n",
       "      <td>64</td>\n",
       "      <td>Female</td>\n",
       "      <td>98.0</td>\n",
       "      <td>Mild</td>\n",
       "      <td>Bangalore</td>\n",
       "    </tr>\n",
       "    <tr>\n",
       "      <th>30</th>\n",
       "      <td>15</td>\n",
       "      <td>Male</td>\n",
       "      <td>101.0</td>\n",
       "      <td>Mild</td>\n",
       "      <td>Delhi</td>\n",
       "    </tr>\n",
       "    <tr>\n",
       "      <th>73</th>\n",
       "      <td>34</td>\n",
       "      <td>Male</td>\n",
       "      <td>98.0</td>\n",
       "      <td>Strong</td>\n",
       "      <td>Kolkata</td>\n",
       "    </tr>\n",
       "    <tr>\n",
       "      <th>33</th>\n",
       "      <td>26</td>\n",
       "      <td>Female</td>\n",
       "      <td>98.0</td>\n",
       "      <td>Mild</td>\n",
       "      <td>Kolkata</td>\n",
       "    </tr>\n",
       "    <tr>\n",
       "      <th>90</th>\n",
       "      <td>59</td>\n",
       "      <td>Female</td>\n",
       "      <td>99.0</td>\n",
       "      <td>Strong</td>\n",
       "      <td>Delhi</td>\n",
       "    </tr>\n",
       "    <tr>\n",
       "      <th>4</th>\n",
       "      <td>65</td>\n",
       "      <td>Female</td>\n",
       "      <td>101.0</td>\n",
       "      <td>Mild</td>\n",
       "      <td>Mumbai</td>\n",
       "    </tr>\n",
       "    <tr>\n",
       "      <th>76</th>\n",
       "      <td>80</td>\n",
       "      <td>Male</td>\n",
       "      <td>100.0</td>\n",
       "      <td>Mild</td>\n",
       "      <td>Bangalore</td>\n",
       "    </tr>\n",
       "    <tr>\n",
       "      <th>77</th>\n",
       "      <td>8</td>\n",
       "      <td>Female</td>\n",
       "      <td>101.0</td>\n",
       "      <td>Mild</td>\n",
       "      <td>Kolkata</td>\n",
       "    </tr>\n",
       "    <tr>\n",
       "      <th>12</th>\n",
       "      <td>25</td>\n",
       "      <td>Female</td>\n",
       "      <td>99.0</td>\n",
       "      <td>Strong</td>\n",
       "      <td>Kolkata</td>\n",
       "    </tr>\n",
       "    <tr>\n",
       "      <th>31</th>\n",
       "      <td>83</td>\n",
       "      <td>Male</td>\n",
       "      <td>103.0</td>\n",
       "      <td>Mild</td>\n",
       "      <td>Kolkata</td>\n",
       "    </tr>\n",
       "  </tbody>\n",
       "</table>\n",
       "</div>"
      ],
      "text/plain": [
       "    age  gender  fever   cough       city\n",
       "83   17  Female  104.0    Mild    Kolkata\n",
       "53   83    Male   98.0    Mild      Delhi\n",
       "70   68  Female  101.0  Strong      Delhi\n",
       "45   72    Male   99.0    Mild  Bangalore\n",
       "44   20    Male  102.0  Strong      Delhi\n",
       "39   50  Female  103.0    Mild    Kolkata\n",
       "22   71  Female   98.0  Strong    Kolkata\n",
       "80   14  Female   99.0    Mild     Mumbai\n",
       "10   75  Female    NaN    Mild      Delhi\n",
       "0    60    Male  103.0    Mild    Kolkata\n",
       "18   64  Female   98.0    Mild  Bangalore\n",
       "30   15    Male  101.0    Mild      Delhi\n",
       "73   34    Male   98.0  Strong    Kolkata\n",
       "33   26  Female   98.0    Mild    Kolkata\n",
       "90   59  Female   99.0  Strong      Delhi\n",
       "4    65  Female  101.0    Mild     Mumbai\n",
       "76   80    Male  100.0    Mild  Bangalore\n",
       "77    8  Female  101.0    Mild    Kolkata\n",
       "12   25  Female   99.0  Strong    Kolkata\n",
       "31   83    Male  103.0    Mild    Kolkata"
      ]
     },
     "execution_count": 29,
     "metadata": {},
     "output_type": "execute_result"
    }
   ],
   "source": [
    "x_test"
   ]
  },
  {
   "cell_type": "code",
   "execution_count": 30,
   "id": "0b2c2e4d-5494-4de9-b30a-404af49a122c",
   "metadata": {},
   "outputs": [
    {
     "data": {
      "text/plain": [
       "55    Yes\n",
       "88     No\n",
       "26    Yes\n",
       "42    Yes\n",
       "69     No\n",
       "     ... \n",
       "60    Yes\n",
       "71     No\n",
       "14     No\n",
       "92     No\n",
       "51    Yes\n",
       "Name: has_covid, Length: 80, dtype: object"
      ]
     },
     "execution_count": 30,
     "metadata": {},
     "output_type": "execute_result"
    }
   ],
   "source": [
    "y_train"
   ]
  },
  {
   "cell_type": "code",
   "execution_count": 31,
   "id": "ff337796-74e4-4514-8412-a0cc11466d9b",
   "metadata": {},
   "outputs": [
    {
     "data": {
      "text/plain": [
       "83     No\n",
       "53    Yes\n",
       "70     No\n",
       "45     No\n",
       "44     No\n",
       "39     No\n",
       "22    Yes\n",
       "80    Yes\n",
       "10     No\n",
       "0      No\n",
       "18    Yes\n",
       "30    Yes\n",
       "73    Yes\n",
       "33     No\n",
       "90     No\n",
       "4      No\n",
       "76    Yes\n",
       "77     No\n",
       "12     No\n",
       "31     No\n",
       "Name: has_covid, dtype: object"
      ]
     },
     "execution_count": 31,
     "metadata": {},
     "output_type": "execute_result"
    }
   ],
   "source": [
    "y_test"
   ]
  },
  {
   "cell_type": "markdown",
   "id": "6d518ec5-1091-40e4-8bff-1d9bed3be76b",
   "metadata": {},
   "source": [
    "# Simple Way"
   ]
  },
  {
   "cell_type": "code",
   "execution_count": null,
   "id": "a60e7ad6-32d7-489b-91b8-0752e8ebcdce",
   "metadata": {},
   "outputs": [],
   "source": []
  },
  {
   "cell_type": "markdown",
   "id": "379efebe-0cc0-49e9-ab1b-2e1ad2c95769",
   "metadata": {},
   "source": [
    "# fever"
   ]
  },
  {
   "cell_type": "code",
   "execution_count": null,
   "id": "d9d632aa-6fbd-4725-b117-c458b35860bc",
   "metadata": {},
   "outputs": [],
   "source": []
  },
  {
   "cell_type": "markdown",
   "id": "c5f3e29c-5eb1-4ea9-8204-c5488a5ed27e",
   "metadata": {},
   "source": [
    "# Handling Missing Values"
   ]
  },
  {
   "cell_type": "code",
   "execution_count": null,
   "id": "1614c35b-bd63-4ba9-90ef-8abc8538d509",
   "metadata": {},
   "outputs": [],
   "source": []
  },
  {
   "cell_type": "code",
   "execution_count": 36,
   "id": "48e59bca-4235-484b-a72a-752965442376",
   "metadata": {},
   "outputs": [
    {
     "data": {
      "text/plain": [
       "array([[101.],\n",
       "       [100.],\n",
       "       [100.],\n",
       "       [100.],\n",
       "       [103.],\n",
       "       [103.],\n",
       "       [102.],\n",
       "       [101.],\n",
       "       [101.],\n",
       "       [101.],\n",
       "       [ 98.],\n",
       "       [104.],\n",
       "       [103.],\n",
       "       [104.],\n",
       "       [100.],\n",
       "       [101.],\n",
       "       [104.],\n",
       "       [102.],\n",
       "       [102.],\n",
       "       [103.],\n",
       "       [104.],\n",
       "       [102.],\n",
       "       [101.],\n",
       "       [104.],\n",
       "       [102.],\n",
       "       [101.],\n",
       "       [ 99.],\n",
       "       [101.],\n",
       "       [104.],\n",
       "       [102.],\n",
       "       [100.],\n",
       "       [ 98.],\n",
       "       [ 98.],\n",
       "       [101.],\n",
       "       [100.],\n",
       "       [100.],\n",
       "       [101.],\n",
       "       [104.],\n",
       "       [101.],\n",
       "       [103.],\n",
       "       [101.],\n",
       "       [ 98.],\n",
       "       [ 99.],\n",
       "       [ 99.],\n",
       "       [101.],\n",
       "       [ 99.],\n",
       "       [101.],\n",
       "       [104.],\n",
       "       [ 98.],\n",
       "       [101.],\n",
       "       [103.],\n",
       "       [101.],\n",
       "       [ 98.],\n",
       "       [ 99.],\n",
       "       [ 98.],\n",
       "       [ 99.],\n",
       "       [102.],\n",
       "       [101.],\n",
       "       [101.],\n",
       "       [104.],\n",
       "       [100.],\n",
       "       [ 98.],\n",
       "       [100.],\n",
       "       [101.],\n",
       "       [100.],\n",
       "       [100.],\n",
       "       [ 98.],\n",
       "       [101.],\n",
       "       [ 98.],\n",
       "       [101.],\n",
       "       [101.],\n",
       "       [104.],\n",
       "       [104.],\n",
       "       [ 98.],\n",
       "       [ 98.],\n",
       "       [102.],\n",
       "       [104.],\n",
       "       [104.],\n",
       "       [102.],\n",
       "       [100.]])"
      ]
     },
     "execution_count": 36,
     "metadata": {},
     "output_type": "execute_result"
    }
   ],
   "source": [
    "x_trained_fever=si.fit_transform(x_train[['fever']])\n",
    "x_test_fever=si.fit_transform(x_test[['fever']])\n",
    "x_trained_fever"
   ]
  },
  {
   "cell_type": "code",
   "execution_count": 37,
   "id": "9a0d3be1-0630-4381-ba68-617da9b0e112",
   "metadata": {},
   "outputs": [
    {
     "data": {
      "text/plain": [
       "(80, 1)"
      ]
     },
     "execution_count": 37,
     "metadata": {},
     "output_type": "execute_result"
    }
   ],
   "source": [
    "x_trained_fever.shape"
   ]
  },
  {
   "cell_type": "code",
   "execution_count": null,
   "id": "c1da585e-544c-4662-b9be-f4dd050486a2",
   "metadata": {},
   "outputs": [],
   "source": []
  },
  {
   "cell_type": "markdown",
   "id": "300d8b03-7715-4cb3-9ea8-f72a807eff35",
   "metadata": {},
   "source": [
    "# Ordinal Encoding "
   ]
  },
  {
   "cell_type": "code",
   "execution_count": null,
   "id": "296aab0e-a68d-4d20-802b-fe596bb45d5c",
   "metadata": {},
   "outputs": [],
   "source": []
  },
  {
   "cell_type": "markdown",
   "id": "1db628b9-6d06-45d9-b2ad-27a7b7dfb40a",
   "metadata": {},
   "source": [
    "# Cough Column"
   ]
  },
  {
   "cell_type": "code",
   "execution_count": null,
   "id": "4f554d46-6a25-4f05-84dc-f0d1510ac8a5",
   "metadata": {},
   "outputs": [],
   "source": []
  },
  {
   "cell_type": "code",
   "execution_count": 39,
   "id": "da7e2b41-f3b2-486b-9378-f5b6383a9622",
   "metadata": {},
   "outputs": [
    {
     "data": {
      "text/plain": [
       "array([[0.],\n",
       "       [0.],\n",
       "       [0.],\n",
       "       [0.],\n",
       "       [0.],\n",
       "       [1.],\n",
       "       [0.],\n",
       "       [1.],\n",
       "       [0.],\n",
       "       [0.],\n",
       "       [0.],\n",
       "       [0.],\n",
       "       [0.],\n",
       "       [0.],\n",
       "       [0.],\n",
       "       [0.],\n",
       "       [0.],\n",
       "       [0.],\n",
       "       [1.],\n",
       "       [0.],\n",
       "       [0.],\n",
       "       [0.],\n",
       "       [1.],\n",
       "       [0.],\n",
       "       [1.],\n",
       "       [1.],\n",
       "       [0.],\n",
       "       [0.],\n",
       "       [1.],\n",
       "       [0.],\n",
       "       [1.],\n",
       "       [0.],\n",
       "       [1.],\n",
       "       [0.],\n",
       "       [1.],\n",
       "       [0.],\n",
       "       [1.],\n",
       "       [0.],\n",
       "       [0.],\n",
       "       [1.],\n",
       "       [1.],\n",
       "       [1.],\n",
       "       [0.],\n",
       "       [0.],\n",
       "       [0.],\n",
       "       [0.],\n",
       "       [0.],\n",
       "       [1.],\n",
       "       [1.],\n",
       "       [0.],\n",
       "       [0.],\n",
       "       [0.],\n",
       "       [1.],\n",
       "       [1.],\n",
       "       [1.],\n",
       "       [1.],\n",
       "       [0.],\n",
       "       [1.],\n",
       "       [1.],\n",
       "       [0.],\n",
       "       [0.],\n",
       "       [1.],\n",
       "       [0.],\n",
       "       [1.],\n",
       "       [0.],\n",
       "       [1.],\n",
       "       [0.],\n",
       "       [0.],\n",
       "       [0.],\n",
       "       [1.],\n",
       "       [0.],\n",
       "       [1.],\n",
       "       [0.],\n",
       "       [0.],\n",
       "       [1.],\n",
       "       [1.],\n",
       "       [1.],\n",
       "       [0.],\n",
       "       [1.],\n",
       "       [1.]])"
      ]
     },
     "execution_count": 39,
     "metadata": {},
     "output_type": "execute_result"
    }
   ],
   "source": [
    "oe=OrdinalEncoder(categories=[['Mild','Strong']])\n",
    "x_trained_cough=oe.fit_transform(x_train[['cough']])\n",
    "x_test_cough=oe.fit_transform(x_test[['cough']])\n",
    "x_trained_cough"
   ]
  },
  {
   "cell_type": "code",
   "execution_count": null,
   "id": "7faf775a-d7c6-411c-9daf-645016dad422",
   "metadata": {},
   "outputs": [],
   "source": []
  },
  {
   "cell_type": "markdown",
   "id": "8f91419d-a44d-4dc6-9ea8-73911cc818e4",
   "metadata": {},
   "source": [
    "# One Hot Encoding"
   ]
  },
  {
   "cell_type": "code",
   "execution_count": null,
   "id": "b57e3de9-0218-405f-9092-9f7c43532dfe",
   "metadata": {},
   "outputs": [],
   "source": []
  },
  {
   "cell_type": "code",
   "execution_count": 46,
   "id": "8c9d8f96-2d16-41b3-8b62-c27f9db4abf3",
   "metadata": {},
   "outputs": [
    {
     "data": {
      "text/plain": [
       "array(['Male', 'Female'], dtype=object)"
      ]
     },
     "execution_count": 46,
     "metadata": {},
     "output_type": "execute_result"
    }
   ],
   "source": [
    "df['gender'].unique()"
   ]
  },
  {
   "cell_type": "code",
   "execution_count": 47,
   "id": "a5b446f2-6d3b-44f3-bfa7-4ce9f2bc2675",
   "metadata": {},
   "outputs": [
    {
     "data": {
      "text/plain": [
       "array(['Kolkata', 'Delhi', 'Mumbai', 'Bangalore'], dtype=object)"
      ]
     },
     "execution_count": 47,
     "metadata": {},
     "output_type": "execute_result"
    }
   ],
   "source": [
    "df['city'].unique()"
   ]
  },
  {
   "cell_type": "markdown",
   "id": "b0b2f135-3df0-487f-97ea-33fdf690fd36",
   "metadata": {},
   "source": [
    "# Gender and City COlumn"
   ]
  },
  {
   "cell_type": "code",
   "execution_count": null,
   "id": "104f807d-6f2b-473c-88ca-00d707846152",
   "metadata": {},
   "outputs": [],
   "source": []
  },
  {
   "cell_type": "code",
   "execution_count": 44,
   "id": "b5ed961c-8a2f-4483-926b-99c5535adc8e",
   "metadata": {},
   "outputs": [
    {
     "data": {
      "text/plain": [
       "array([[0., 0., 0., 1.],\n",
       "       [0., 0., 1., 0.],\n",
       "       [0., 0., 1., 0.],\n",
       "       [1., 1., 0., 0.],\n",
       "       [0., 1., 0., 0.],\n",
       "       [1., 0., 1., 0.],\n",
       "       [0., 1., 0., 0.],\n",
       "       [0., 0., 1., 0.],\n",
       "       [0., 1., 0., 0.],\n",
       "       [0., 0., 1., 0.],\n",
       "       [0., 0., 0., 1.],\n",
       "       [0., 0., 0., 0.],\n",
       "       [0., 0., 0., 0.],\n",
       "       [1., 0., 1., 0.],\n",
       "       [1., 0., 1., 0.],\n",
       "       [0., 0., 0., 0.],\n",
       "       [1., 0., 1., 0.],\n",
       "       [0., 0., 0., 0.],\n",
       "       [0., 0., 0., 0.],\n",
       "       [0., 0., 1., 0.],\n",
       "       [1., 0., 0., 1.],\n",
       "       [1., 0., 0., 1.],\n",
       "       [0., 0., 0., 1.],\n",
       "       [0., 0., 0., 0.],\n",
       "       [0., 1., 0., 0.],\n",
       "       [0., 0., 0., 0.],\n",
       "       [1., 1., 0., 0.],\n",
       "       [1., 0., 0., 1.],\n",
       "       [0., 0., 0., 0.],\n",
       "       [1., 0., 0., 0.],\n",
       "       [0., 0., 1., 0.],\n",
       "       [0., 0., 1., 0.],\n",
       "       [0., 1., 0., 0.],\n",
       "       [0., 1., 0., 0.],\n",
       "       [0., 0., 0., 0.],\n",
       "       [1., 0., 0., 0.],\n",
       "       [1., 0., 0., 0.],\n",
       "       [1., 0., 0., 1.],\n",
       "       [0., 0., 0., 0.],\n",
       "       [1., 0., 0., 0.],\n",
       "       [1., 0., 1., 0.],\n",
       "       [0., 0., 1., 0.],\n",
       "       [0., 0., 0., 1.],\n",
       "       [0., 0., 0., 0.],\n",
       "       [1., 1., 0., 0.],\n",
       "       [1., 0., 0., 0.],\n",
       "       [0., 0., 0., 1.],\n",
       "       [0., 0., 1., 0.],\n",
       "       [0., 0., 0., 1.],\n",
       "       [0., 0., 0., 0.],\n",
       "       [0., 0., 1., 0.],\n",
       "       [1., 0., 1., 0.],\n",
       "       [1., 0., 0., 1.],\n",
       "       [1., 0., 0., 0.],\n",
       "       [0., 0., 0., 1.],\n",
       "       [0., 0., 0., 0.],\n",
       "       [1., 0., 1., 0.],\n",
       "       [0., 1., 0., 0.],\n",
       "       [1., 0., 1., 0.],\n",
       "       [0., 0., 1., 0.],\n",
       "       [1., 0., 0., 0.],\n",
       "       [0., 0., 0., 1.],\n",
       "       [1., 0., 1., 0.],\n",
       "       [0., 0., 0., 1.],\n",
       "       [1., 1., 0., 0.],\n",
       "       [0., 0., 0., 0.],\n",
       "       [1., 0., 0., 0.],\n",
       "       [1., 1., 0., 0.],\n",
       "       [0., 1., 0., 0.],\n",
       "       [1., 0., 0., 0.],\n",
       "       [1., 1., 0., 0.],\n",
       "       [0., 1., 0., 0.],\n",
       "       [1., 0., 0., 0.],\n",
       "       [1., 0., 1., 0.],\n",
       "       [1., 0., 0., 0.],\n",
       "       [0., 0., 0., 0.],\n",
       "       [0., 1., 0., 0.],\n",
       "       [1., 0., 0., 0.],\n",
       "       [0., 0., 1., 0.],\n",
       "       [0., 0., 1., 0.]])"
      ]
     },
     "execution_count": 44,
     "metadata": {},
     "output_type": "execute_result"
    }
   ],
   "source": [
    "ohe=OneHotEncoder(drop='first',sparse_output=False)\n",
    "x_trained_gc=ohe.fit_transform(x_train[['gender','city']])\n",
    "x_test_gc=ohe.fit_transform(x_test[['gender','city']])\n",
    "x_trained_gc"
   ]
  },
  {
   "cell_type": "code",
   "execution_count": 48,
   "id": "85d377b0-5bc0-4811-bc86-f06095f63bad",
   "metadata": {},
   "outputs": [
    {
     "data": {
      "text/plain": [
       "(80, 4)"
      ]
     },
     "execution_count": 48,
     "metadata": {},
     "output_type": "execute_result"
    }
   ],
   "source": [
    "x_trained_gc.shape"
   ]
  },
  {
   "cell_type": "code",
   "execution_count": null,
   "id": "64980049-6025-43a3-b6d5-9bccc679bf84",
   "metadata": {},
   "outputs": [],
   "source": []
  },
  {
   "cell_type": "markdown",
   "id": "4549ce67-dbcd-4932-92d6-9f59236d39cc",
   "metadata": {},
   "source": [
    "# Now extracting age "
   ]
  },
  {
   "cell_type": "code",
   "execution_count": 51,
   "id": "fecd6d36-d1f4-4716-878b-d1afbf18c977",
   "metadata": {},
   "outputs": [
    {
     "data": {
      "text/html": [
       "<div>\n",
       "<style scoped>\n",
       "    .dataframe tbody tr th:only-of-type {\n",
       "        vertical-align: middle;\n",
       "    }\n",
       "\n",
       "    .dataframe tbody tr th {\n",
       "        vertical-align: top;\n",
       "    }\n",
       "\n",
       "    .dataframe thead th {\n",
       "        text-align: right;\n",
       "    }\n",
       "</style>\n",
       "<table border=\"1\" class=\"dataframe\">\n",
       "  <thead>\n",
       "    <tr style=\"text-align: right;\">\n",
       "      <th></th>\n",
       "      <th>age</th>\n",
       "      <th>gender</th>\n",
       "      <th>fever</th>\n",
       "      <th>cough</th>\n",
       "      <th>city</th>\n",
       "      <th>has_covid</th>\n",
       "    </tr>\n",
       "  </thead>\n",
       "  <tbody>\n",
       "    <tr>\n",
       "      <th>0</th>\n",
       "      <td>60</td>\n",
       "      <td>Male</td>\n",
       "      <td>103.0</td>\n",
       "      <td>Mild</td>\n",
       "      <td>Kolkata</td>\n",
       "      <td>No</td>\n",
       "    </tr>\n",
       "    <tr>\n",
       "      <th>1</th>\n",
       "      <td>27</td>\n",
       "      <td>Male</td>\n",
       "      <td>100.0</td>\n",
       "      <td>Mild</td>\n",
       "      <td>Delhi</td>\n",
       "      <td>Yes</td>\n",
       "    </tr>\n",
       "    <tr>\n",
       "      <th>2</th>\n",
       "      <td>42</td>\n",
       "      <td>Male</td>\n",
       "      <td>101.0</td>\n",
       "      <td>Mild</td>\n",
       "      <td>Delhi</td>\n",
       "      <td>No</td>\n",
       "    </tr>\n",
       "    <tr>\n",
       "      <th>3</th>\n",
       "      <td>31</td>\n",
       "      <td>Female</td>\n",
       "      <td>98.0</td>\n",
       "      <td>Mild</td>\n",
       "      <td>Kolkata</td>\n",
       "      <td>No</td>\n",
       "    </tr>\n",
       "    <tr>\n",
       "      <th>4</th>\n",
       "      <td>65</td>\n",
       "      <td>Female</td>\n",
       "      <td>101.0</td>\n",
       "      <td>Mild</td>\n",
       "      <td>Mumbai</td>\n",
       "      <td>No</td>\n",
       "    </tr>\n",
       "    <tr>\n",
       "      <th>...</th>\n",
       "      <td>...</td>\n",
       "      <td>...</td>\n",
       "      <td>...</td>\n",
       "      <td>...</td>\n",
       "      <td>...</td>\n",
       "      <td>...</td>\n",
       "    </tr>\n",
       "    <tr>\n",
       "      <th>95</th>\n",
       "      <td>12</td>\n",
       "      <td>Female</td>\n",
       "      <td>104.0</td>\n",
       "      <td>Mild</td>\n",
       "      <td>Bangalore</td>\n",
       "      <td>No</td>\n",
       "    </tr>\n",
       "    <tr>\n",
       "      <th>96</th>\n",
       "      <td>51</td>\n",
       "      <td>Female</td>\n",
       "      <td>101.0</td>\n",
       "      <td>Strong</td>\n",
       "      <td>Kolkata</td>\n",
       "      <td>Yes</td>\n",
       "    </tr>\n",
       "    <tr>\n",
       "      <th>97</th>\n",
       "      <td>20</td>\n",
       "      <td>Female</td>\n",
       "      <td>101.0</td>\n",
       "      <td>Mild</td>\n",
       "      <td>Bangalore</td>\n",
       "      <td>No</td>\n",
       "    </tr>\n",
       "    <tr>\n",
       "      <th>98</th>\n",
       "      <td>5</td>\n",
       "      <td>Female</td>\n",
       "      <td>98.0</td>\n",
       "      <td>Strong</td>\n",
       "      <td>Mumbai</td>\n",
       "      <td>No</td>\n",
       "    </tr>\n",
       "    <tr>\n",
       "      <th>99</th>\n",
       "      <td>10</td>\n",
       "      <td>Female</td>\n",
       "      <td>98.0</td>\n",
       "      <td>Strong</td>\n",
       "      <td>Kolkata</td>\n",
       "      <td>Yes</td>\n",
       "    </tr>\n",
       "  </tbody>\n",
       "</table>\n",
       "<p>100 rows × 6 columns</p>\n",
       "</div>"
      ],
      "text/plain": [
       "    age  gender  fever   cough       city has_covid\n",
       "0    60    Male  103.0    Mild    Kolkata        No\n",
       "1    27    Male  100.0    Mild      Delhi       Yes\n",
       "2    42    Male  101.0    Mild      Delhi        No\n",
       "3    31  Female   98.0    Mild    Kolkata        No\n",
       "4    65  Female  101.0    Mild     Mumbai        No\n",
       "..  ...     ...    ...     ...        ...       ...\n",
       "95   12  Female  104.0    Mild  Bangalore        No\n",
       "96   51  Female  101.0  Strong    Kolkata       Yes\n",
       "97   20  Female  101.0    Mild  Bangalore        No\n",
       "98    5  Female   98.0  Strong     Mumbai        No\n",
       "99   10  Female   98.0  Strong    Kolkata       Yes\n",
       "\n",
       "[100 rows x 6 columns]"
      ]
     },
     "execution_count": 51,
     "metadata": {},
     "output_type": "execute_result"
    }
   ],
   "source": [
    "df "
   ]
  },
  {
   "cell_type": "code",
   "execution_count": 56,
   "id": "8a1a6861-b87a-4a3c-bbd2-3bb4a4ede42e",
   "metadata": {},
   "outputs": [
    {
     "data": {
      "text/html": [
       "<div>\n",
       "<style scoped>\n",
       "    .dataframe tbody tr th:only-of-type {\n",
       "        vertical-align: middle;\n",
       "    }\n",
       "\n",
       "    .dataframe tbody tr th {\n",
       "        vertical-align: top;\n",
       "    }\n",
       "\n",
       "    .dataframe thead th {\n",
       "        text-align: right;\n",
       "    }\n",
       "</style>\n",
       "<table border=\"1\" class=\"dataframe\">\n",
       "  <thead>\n",
       "    <tr style=\"text-align: right;\">\n",
       "      <th></th>\n",
       "      <th>age</th>\n",
       "    </tr>\n",
       "  </thead>\n",
       "  <tbody>\n",
       "    <tr>\n",
       "      <th>55</th>\n",
       "      <td>81</td>\n",
       "    </tr>\n",
       "    <tr>\n",
       "      <th>88</th>\n",
       "      <td>5</td>\n",
       "    </tr>\n",
       "    <tr>\n",
       "      <th>26</th>\n",
       "      <td>19</td>\n",
       "    </tr>\n",
       "    <tr>\n",
       "      <th>42</th>\n",
       "      <td>27</td>\n",
       "    </tr>\n",
       "    <tr>\n",
       "      <th>69</th>\n",
       "      <td>73</td>\n",
       "    </tr>\n",
       "    <tr>\n",
       "      <th>...</th>\n",
       "      <td>...</td>\n",
       "    </tr>\n",
       "    <tr>\n",
       "      <th>60</th>\n",
       "      <td>24</td>\n",
       "    </tr>\n",
       "    <tr>\n",
       "      <th>71</th>\n",
       "      <td>75</td>\n",
       "    </tr>\n",
       "    <tr>\n",
       "      <th>14</th>\n",
       "      <td>51</td>\n",
       "    </tr>\n",
       "    <tr>\n",
       "      <th>92</th>\n",
       "      <td>82</td>\n",
       "    </tr>\n",
       "    <tr>\n",
       "      <th>51</th>\n",
       "      <td>11</td>\n",
       "    </tr>\n",
       "  </tbody>\n",
       "</table>\n",
       "<p>80 rows × 1 columns</p>\n",
       "</div>"
      ],
      "text/plain": [
       "    age\n",
       "55   81\n",
       "88    5\n",
       "26   19\n",
       "42   27\n",
       "69   73\n",
       "..  ...\n",
       "60   24\n",
       "71   75\n",
       "14   51\n",
       "92   82\n",
       "51   11\n",
       "\n",
       "[80 rows x 1 columns]"
      ]
     },
     "execution_count": 56,
     "metadata": {},
     "output_type": "execute_result"
    }
   ],
   "source": [
    "x_trained_age=x_train.drop(columns=['gender','fever','cough','city'])\n",
    "x_test_age=x_test.drop(columns=['gender','fever','cough','city'])\n",
    "x_trained_age"
   ]
  },
  {
   "cell_type": "code",
   "execution_count": 58,
   "id": "2dbefd75-e4b9-4490-b63b-a1976df71f82",
   "metadata": {},
   "outputs": [
    {
     "data": {
      "text/plain": [
       "array([[ 81., 101.,   0.,   0.,   0.,   1.,   0.],\n",
       "       [  5., 100.,   0.,   0.,   1.,   0.,   0.],\n",
       "       [ 19., 100.,   0.,   0.,   1.,   0.,   0.],\n",
       "       [ 27., 100.,   1.,   1.,   0.,   0.,   0.],\n",
       "       [ 73., 103.,   0.,   1.,   0.,   0.,   0.],\n",
       "       [ 70., 103.,   1.,   0.,   1.,   0.,   1.],\n",
       "       [ 49., 102.,   0.,   1.,   0.,   0.,   0.],\n",
       "       [ 51., 101.,   0.,   0.,   1.,   0.,   1.],\n",
       "       [ 64., 101.,   0.,   1.,   0.,   0.,   0.],\n",
       "       [ 83., 101.,   0.,   0.,   1.,   0.,   0.],\n",
       "       [ 65.,  98.,   0.,   0.,   0.,   1.,   0.],\n",
       "       [ 18., 104.,   0.,   0.,   0.,   0.,   0.],\n",
       "       [ 16., 103.,   0.,   0.,   0.,   0.,   0.],\n",
       "       [ 16., 104.,   1.,   0.,   1.,   0.,   0.],\n",
       "       [ 27., 100.,   1.,   0.,   1.,   0.,   0.],\n",
       "       [ 84., 101.,   0.,   0.,   0.,   0.,   0.],\n",
       "       [ 51., 104.,   1.,   0.,   1.,   0.,   0.],\n",
       "       [ 69., 102.,   0.,   0.,   0.,   0.,   0.],\n",
       "       [ 82., 102.,   0.,   0.,   0.,   0.,   1.],\n",
       "       [ 69., 103.,   0.,   0.,   1.,   0.,   0.],\n",
       "       [ 44., 104.,   1.,   0.,   0.,   1.,   0.],\n",
       "       [ 74., 102.,   1.,   0.,   0.,   1.,   0.],\n",
       "       [ 20., 101.,   0.,   0.,   0.,   1.,   1.],\n",
       "       [ 12., 104.,   0.,   0.,   0.,   0.,   0.],\n",
       "       [ 33., 102.,   0.,   1.,   0.,   0.,   1.],\n",
       "       [ 42., 101.,   0.,   0.,   0.,   0.,   1.],\n",
       "       [ 65.,  99.,   1.,   1.,   0.,   0.,   0.],\n",
       "       [ 23., 101.,   1.,   0.,   0.,   1.,   0.],\n",
       "       [ 56., 104.,   0.,   0.,   0.,   0.,   1.],\n",
       "       [ 64., 102.,   1.,   0.,   0.,   0.,   0.],\n",
       "       [ 13., 100.,   0.,   0.,   1.,   0.,   1.],\n",
       "       [ 31.,  98.,   0.,   0.,   1.,   0.,   0.],\n",
       "       [ 40.,  98.,   0.,   1.,   0.,   0.,   1.],\n",
       "       [ 49., 101.,   0.,   1.,   0.,   0.,   0.],\n",
       "       [ 19., 100.,   0.,   0.,   0.,   0.,   1.],\n",
       "       [ 11., 100.,   1.,   0.,   0.,   0.,   0.],\n",
       "       [ 14., 101.,   1.,   0.,   0.,   0.,   1.],\n",
       "       [ 42., 104.,   1.,   0.,   0.,   1.,   0.],\n",
       "       [ 38., 101.,   0.,   0.,   0.,   0.,   0.],\n",
       "       [ 46., 103.,   1.,   0.,   0.,   0.,   1.],\n",
       "       [ 71., 101.,   1.,   0.,   1.,   0.,   1.],\n",
       "       [ 10.,  98.,   0.,   0.,   1.,   0.,   1.],\n",
       "       [ 60.,  99.,   0.,   0.,   0.,   1.,   0.],\n",
       "       [ 22.,  99.,   0.,   0.,   0.,   0.,   0.],\n",
       "       [ 19., 101.,   1.,   1.,   0.,   0.,   0.],\n",
       "       [ 65.,  99.,   1.,   0.,   0.,   0.,   0.],\n",
       "       [ 19., 101.,   0.,   0.,   0.,   1.,   0.],\n",
       "       [ 54., 104.,   0.,   0.,   1.,   0.,   1.],\n",
       "       [ 81.,  98.,   0.,   0.,   0.,   1.,   1.],\n",
       "       [ 20., 101.,   0.,   0.,   0.,   0.,   0.],\n",
       "       [ 48., 103.,   0.,   0.,   1.,   0.,   0.],\n",
       "       [ 82., 101.,   1.,   0.,   1.,   0.,   0.],\n",
       "       [ 23.,  98.,   1.,   0.,   0.,   1.,   1.],\n",
       "       [ 66.,  99.,   1.,   0.,   0.,   0.,   1.],\n",
       "       [  5.,  98.,   0.,   0.,   0.,   1.,   1.],\n",
       "       [ 49.,  99.,   0.,   0.,   0.,   0.,   1.],\n",
       "       [  5., 102.,   1.,   0.,   1.,   0.,   0.],\n",
       "       [ 34., 101.,   0.,   1.,   0.,   0.,   1.],\n",
       "       [ 79., 101.,   1.,   0.,   1.,   0.,   1.],\n",
       "       [  6., 104.,   0.,   0.,   1.,   0.,   0.],\n",
       "       [ 10., 100.,   1.,   0.,   0.,   0.,   0.],\n",
       "       [ 69.,  98.,   0.,   0.,   0.,   1.,   1.],\n",
       "       [ 55., 100.,   1.,   0.,   1.,   0.,   0.],\n",
       "       [ 34., 101.,   0.,   0.,   0.,   1.,   1.],\n",
       "       [ 27., 100.,   1.,   1.,   0.,   0.,   0.],\n",
       "       [ 47., 100.,   0.,   0.,   0.,   0.,   1.],\n",
       "       [ 73.,  98.,   1.,   0.,   0.,   0.,   0.],\n",
       "       [ 42., 101.,   1.,   1.,   0.,   0.,   0.],\n",
       "       [ 80.,  98.,   0.,   1.,   0.,   0.,   0.],\n",
       "       [ 47., 101.,   1.,   0.,   0.,   0.,   1.],\n",
       "       [ 38., 101.,   1.,   1.,   0.,   0.,   0.],\n",
       "       [ 34., 104.,   0.,   1.,   0.,   0.,   1.],\n",
       "       [ 25., 104.,   1.,   0.,   0.,   0.,   0.],\n",
       "       [ 24.,  98.,   1.,   0.,   1.,   0.,   0.],\n",
       "       [ 12.,  98.,   1.,   0.,   0.,   0.,   1.],\n",
       "       [ 24., 102.,   0.,   0.,   0.,   0.,   1.],\n",
       "       [ 75., 104.,   0.,   1.,   0.,   0.,   1.],\n",
       "       [ 51., 104.,   1.,   0.,   0.,   0.,   0.],\n",
       "       [ 82., 102.,   0.,   0.,   1.,   0.,   1.],\n",
       "       [ 11., 100.,   0.,   0.,   1.,   0.,   1.]])"
      ]
     },
     "execution_count": 58,
     "metadata": {},
     "output_type": "execute_result"
    }
   ],
   "source": [
    "x_train_transformed=np.concatenate((x_trained_age,x_trained_fever,x_trained_gc,x_trained_cough),axis=1)\n",
    "x_test_transformed=np.concatenate((x_test_age,x_test_fever,x_test_gc,x_test_cough),axis=1)\n",
    "x_train_transformed "
   ]
  },
  {
   "cell_type": "code",
   "execution_count": 59,
   "id": "915fc1e5-ae3b-4be6-bc77-5cd05fd6fdbe",
   "metadata": {},
   "outputs": [
    {
     "data": {
      "text/plain": [
       "(80, 7)"
      ]
     },
     "execution_count": 59,
     "metadata": {},
     "output_type": "execute_result"
    }
   ],
   "source": [
    "x_train_transformed.shape "
   ]
  },
  {
   "cell_type": "code",
   "execution_count": null,
   "id": "79d017f5-4458-495f-8af9-02dac69359e4",
   "metadata": {},
   "outputs": [],
   "source": []
  },
  {
   "cell_type": "markdown",
   "id": "8f90f298-885f-49f8-b060-2b170322f62f",
   "metadata": {},
   "source": [
    "# Using Column Transformer CLass"
   ]
  },
  {
   "cell_type": "code",
   "execution_count": 60,
   "id": "b7c27006-4d69-4fba-b55f-abe84fc52f90",
   "metadata": {},
   "outputs": [],
   "source": [
    "from sklearn.compose import ColumnTransformer\n"
   ]
  },
  {
   "cell_type": "code",
   "execution_count": 61,
   "id": "e48df938-e1da-49b8-b450-234041792e2c",
   "metadata": {},
   "outputs": [
    {
     "data": {
      "text/html": [
       "<div>\n",
       "<style scoped>\n",
       "    .dataframe tbody tr th:only-of-type {\n",
       "        vertical-align: middle;\n",
       "    }\n",
       "\n",
       "    .dataframe tbody tr th {\n",
       "        vertical-align: top;\n",
       "    }\n",
       "\n",
       "    .dataframe thead th {\n",
       "        text-align: right;\n",
       "    }\n",
       "</style>\n",
       "<table border=\"1\" class=\"dataframe\">\n",
       "  <thead>\n",
       "    <tr style=\"text-align: right;\">\n",
       "      <th></th>\n",
       "      <th>age</th>\n",
       "      <th>gender</th>\n",
       "      <th>fever</th>\n",
       "      <th>cough</th>\n",
       "      <th>city</th>\n",
       "      <th>has_covid</th>\n",
       "    </tr>\n",
       "  </thead>\n",
       "  <tbody>\n",
       "    <tr>\n",
       "      <th>0</th>\n",
       "      <td>60</td>\n",
       "      <td>Male</td>\n",
       "      <td>103.0</td>\n",
       "      <td>Mild</td>\n",
       "      <td>Kolkata</td>\n",
       "      <td>No</td>\n",
       "    </tr>\n",
       "    <tr>\n",
       "      <th>1</th>\n",
       "      <td>27</td>\n",
       "      <td>Male</td>\n",
       "      <td>100.0</td>\n",
       "      <td>Mild</td>\n",
       "      <td>Delhi</td>\n",
       "      <td>Yes</td>\n",
       "    </tr>\n",
       "    <tr>\n",
       "      <th>2</th>\n",
       "      <td>42</td>\n",
       "      <td>Male</td>\n",
       "      <td>101.0</td>\n",
       "      <td>Mild</td>\n",
       "      <td>Delhi</td>\n",
       "      <td>No</td>\n",
       "    </tr>\n",
       "    <tr>\n",
       "      <th>3</th>\n",
       "      <td>31</td>\n",
       "      <td>Female</td>\n",
       "      <td>98.0</td>\n",
       "      <td>Mild</td>\n",
       "      <td>Kolkata</td>\n",
       "      <td>No</td>\n",
       "    </tr>\n",
       "    <tr>\n",
       "      <th>4</th>\n",
       "      <td>65</td>\n",
       "      <td>Female</td>\n",
       "      <td>101.0</td>\n",
       "      <td>Mild</td>\n",
       "      <td>Mumbai</td>\n",
       "      <td>No</td>\n",
       "    </tr>\n",
       "    <tr>\n",
       "      <th>...</th>\n",
       "      <td>...</td>\n",
       "      <td>...</td>\n",
       "      <td>...</td>\n",
       "      <td>...</td>\n",
       "      <td>...</td>\n",
       "      <td>...</td>\n",
       "    </tr>\n",
       "    <tr>\n",
       "      <th>95</th>\n",
       "      <td>12</td>\n",
       "      <td>Female</td>\n",
       "      <td>104.0</td>\n",
       "      <td>Mild</td>\n",
       "      <td>Bangalore</td>\n",
       "      <td>No</td>\n",
       "    </tr>\n",
       "    <tr>\n",
       "      <th>96</th>\n",
       "      <td>51</td>\n",
       "      <td>Female</td>\n",
       "      <td>101.0</td>\n",
       "      <td>Strong</td>\n",
       "      <td>Kolkata</td>\n",
       "      <td>Yes</td>\n",
       "    </tr>\n",
       "    <tr>\n",
       "      <th>97</th>\n",
       "      <td>20</td>\n",
       "      <td>Female</td>\n",
       "      <td>101.0</td>\n",
       "      <td>Mild</td>\n",
       "      <td>Bangalore</td>\n",
       "      <td>No</td>\n",
       "    </tr>\n",
       "    <tr>\n",
       "      <th>98</th>\n",
       "      <td>5</td>\n",
       "      <td>Female</td>\n",
       "      <td>98.0</td>\n",
       "      <td>Strong</td>\n",
       "      <td>Mumbai</td>\n",
       "      <td>No</td>\n",
       "    </tr>\n",
       "    <tr>\n",
       "      <th>99</th>\n",
       "      <td>10</td>\n",
       "      <td>Female</td>\n",
       "      <td>98.0</td>\n",
       "      <td>Strong</td>\n",
       "      <td>Kolkata</td>\n",
       "      <td>Yes</td>\n",
       "    </tr>\n",
       "  </tbody>\n",
       "</table>\n",
       "<p>100 rows × 6 columns</p>\n",
       "</div>"
      ],
      "text/plain": [
       "    age  gender  fever   cough       city has_covid\n",
       "0    60    Male  103.0    Mild    Kolkata        No\n",
       "1    27    Male  100.0    Mild      Delhi       Yes\n",
       "2    42    Male  101.0    Mild      Delhi        No\n",
       "3    31  Female   98.0    Mild    Kolkata        No\n",
       "4    65  Female  101.0    Mild     Mumbai        No\n",
       "..  ...     ...    ...     ...        ...       ...\n",
       "95   12  Female  104.0    Mild  Bangalore        No\n",
       "96   51  Female  101.0  Strong    Kolkata       Yes\n",
       "97   20  Female  101.0    Mild  Bangalore        No\n",
       "98    5  Female   98.0  Strong     Mumbai        No\n",
       "99   10  Female   98.0  Strong    Kolkata       Yes\n",
       "\n",
       "[100 rows x 6 columns]"
      ]
     },
     "execution_count": 61,
     "metadata": {},
     "output_type": "execute_result"
    }
   ],
   "source": [
    "df "
   ]
  },
  {
   "cell_type": "code",
   "execution_count": 62,
   "id": "5242e109-29d9-479c-b2b0-63d0725eab2d",
   "metadata": {},
   "outputs": [],
   "source": [
    "transformer=ColumnTransformer(transformers=[\n",
    "    ('tnf1',SimpleImputer(),['fever']),\n",
    "    ('tnf2',OrdinalEncoder(categories=[['Mild','Strong']]),['cough']),\n",
    "    ('tnf3',OneHotEncoder(drop='first',sparse_output=False),['gender','city'])\n",
    "],remainder='passthrough')"
   ]
  },
  {
   "cell_type": "code",
   "execution_count": 65,
   "id": "cecee79c-e67f-45bb-a8bb-1d31551902f7",
   "metadata": {},
   "outputs": [
    {
     "data": {
      "text/plain": [
       "array([[101.,   0.,   0.,   0.,   0.,   1.,  81.],\n",
       "       [100.,   0.,   0.,   0.,   1.,   0.,   5.],\n",
       "       [100.,   0.,   0.,   0.,   1.,   0.,  19.],\n",
       "       [100.,   0.,   1.,   1.,   0.,   0.,  27.],\n",
       "       [103.,   0.,   0.,   1.,   0.,   0.,  73.],\n",
       "       [103.,   1.,   1.,   0.,   1.,   0.,  70.],\n",
       "       [102.,   0.,   0.,   1.,   0.,   0.,  49.],\n",
       "       [101.,   1.,   0.,   0.,   1.,   0.,  51.],\n",
       "       [101.,   0.,   0.,   1.,   0.,   0.,  64.],\n",
       "       [101.,   0.,   0.,   0.,   1.,   0.,  83.],\n",
       "       [ 98.,   0.,   0.,   0.,   0.,   1.,  65.],\n",
       "       [104.,   0.,   0.,   0.,   0.,   0.,  18.],\n",
       "       [103.,   0.,   0.,   0.,   0.,   0.,  16.],\n",
       "       [104.,   0.,   1.,   0.,   1.,   0.,  16.],\n",
       "       [100.,   0.,   1.,   0.,   1.,   0.,  27.],\n",
       "       [101.,   0.,   0.,   0.,   0.,   0.,  84.],\n",
       "       [104.,   0.,   1.,   0.,   1.,   0.,  51.],\n",
       "       [102.,   0.,   0.,   0.,   0.,   0.,  69.],\n",
       "       [102.,   1.,   0.,   0.,   0.,   0.,  82.],\n",
       "       [103.,   0.,   0.,   0.,   1.,   0.,  69.],\n",
       "       [104.,   0.,   1.,   0.,   0.,   1.,  44.],\n",
       "       [102.,   0.,   1.,   0.,   0.,   1.,  74.],\n",
       "       [101.,   1.,   0.,   0.,   0.,   1.,  20.],\n",
       "       [104.,   0.,   0.,   0.,   0.,   0.,  12.],\n",
       "       [102.,   1.,   0.,   1.,   0.,   0.,  33.],\n",
       "       [101.,   1.,   0.,   0.,   0.,   0.,  42.],\n",
       "       [ 99.,   0.,   1.,   1.,   0.,   0.,  65.],\n",
       "       [101.,   0.,   1.,   0.,   0.,   1.,  23.],\n",
       "       [104.,   1.,   0.,   0.,   0.,   0.,  56.],\n",
       "       [102.,   0.,   1.,   0.,   0.,   0.,  64.],\n",
       "       [100.,   1.,   0.,   0.,   1.,   0.,  13.],\n",
       "       [ 98.,   0.,   0.,   0.,   1.,   0.,  31.],\n",
       "       [ 98.,   1.,   0.,   1.,   0.,   0.,  40.],\n",
       "       [101.,   0.,   0.,   1.,   0.,   0.,  49.],\n",
       "       [100.,   1.,   0.,   0.,   0.,   0.,  19.],\n",
       "       [100.,   0.,   1.,   0.,   0.,   0.,  11.],\n",
       "       [101.,   1.,   1.,   0.,   0.,   0.,  14.],\n",
       "       [104.,   0.,   1.,   0.,   0.,   1.,  42.],\n",
       "       [101.,   0.,   0.,   0.,   0.,   0.,  38.],\n",
       "       [103.,   1.,   1.,   0.,   0.,   0.,  46.],\n",
       "       [101.,   1.,   1.,   0.,   1.,   0.,  71.],\n",
       "       [ 98.,   1.,   0.,   0.,   1.,   0.,  10.],\n",
       "       [ 99.,   0.,   0.,   0.,   0.,   1.,  60.],\n",
       "       [ 99.,   0.,   0.,   0.,   0.,   0.,  22.],\n",
       "       [101.,   0.,   1.,   1.,   0.,   0.,  19.],\n",
       "       [ 99.,   0.,   1.,   0.,   0.,   0.,  65.],\n",
       "       [101.,   0.,   0.,   0.,   0.,   1.,  19.],\n",
       "       [104.,   1.,   0.,   0.,   1.,   0.,  54.],\n",
       "       [ 98.,   1.,   0.,   0.,   0.,   1.,  81.],\n",
       "       [101.,   0.,   0.,   0.,   0.,   0.,  20.],\n",
       "       [103.,   0.,   0.,   0.,   1.,   0.,  48.],\n",
       "       [101.,   0.,   1.,   0.,   1.,   0.,  82.],\n",
       "       [ 98.,   1.,   1.,   0.,   0.,   1.,  23.],\n",
       "       [ 99.,   1.,   1.,   0.,   0.,   0.,  66.],\n",
       "       [ 98.,   1.,   0.,   0.,   0.,   1.,   5.],\n",
       "       [ 99.,   1.,   0.,   0.,   0.,   0.,  49.],\n",
       "       [102.,   0.,   1.,   0.,   1.,   0.,   5.],\n",
       "       [101.,   1.,   0.,   1.,   0.,   0.,  34.],\n",
       "       [101.,   1.,   1.,   0.,   1.,   0.,  79.],\n",
       "       [104.,   0.,   0.,   0.,   1.,   0.,   6.],\n",
       "       [100.,   0.,   1.,   0.,   0.,   0.,  10.],\n",
       "       [ 98.,   1.,   0.,   0.,   0.,   1.,  69.],\n",
       "       [100.,   0.,   1.,   0.,   1.,   0.,  55.],\n",
       "       [101.,   1.,   0.,   0.,   0.,   1.,  34.],\n",
       "       [100.,   0.,   1.,   1.,   0.,   0.,  27.],\n",
       "       [100.,   1.,   0.,   0.,   0.,   0.,  47.],\n",
       "       [ 98.,   0.,   1.,   0.,   0.,   0.,  73.],\n",
       "       [101.,   0.,   1.,   1.,   0.,   0.,  42.],\n",
       "       [ 98.,   0.,   0.,   1.,   0.,   0.,  80.],\n",
       "       [101.,   1.,   1.,   0.,   0.,   0.,  47.],\n",
       "       [101.,   0.,   1.,   1.,   0.,   0.,  38.],\n",
       "       [104.,   1.,   0.,   1.,   0.,   0.,  34.],\n",
       "       [104.,   0.,   1.,   0.,   0.,   0.,  25.],\n",
       "       [ 98.,   0.,   1.,   0.,   1.,   0.,  24.],\n",
       "       [ 98.,   1.,   1.,   0.,   0.,   0.,  12.],\n",
       "       [102.,   1.,   0.,   0.,   0.,   0.,  24.],\n",
       "       [104.,   1.,   0.,   1.,   0.,   0.,  75.],\n",
       "       [104.,   0.,   1.,   0.,   0.,   0.,  51.],\n",
       "       [102.,   1.,   0.,   0.,   1.,   0.,  82.],\n",
       "       [100.,   1.,   0.,   0.,   1.,   0.,  11.]])"
      ]
     },
     "execution_count": 65,
     "metadata": {},
     "output_type": "execute_result"
    }
   ],
   "source": [
    "x_train_transformed2=transformer.fit_transform(x_train)\n",
    "x_train_transformed2"
   ]
  },
  {
   "cell_type": "code",
   "execution_count": 66,
   "id": "5858f878-5de0-4cdf-a3fb-cdd80e6dabc6",
   "metadata": {},
   "outputs": [
    {
     "data": {
      "text/plain": [
       "(80, 7)"
      ]
     },
     "execution_count": 66,
     "metadata": {},
     "output_type": "execute_result"
    }
   ],
   "source": [
    "x_train_transformed2.shape"
   ]
  },
  {
   "cell_type": "code",
   "execution_count": null,
   "id": "cbdc6cdd-e7aa-44bf-821a-22a53b9a1f56",
   "metadata": {},
   "outputs": [],
   "source": []
  },
  {
   "cell_type": "code",
   "execution_count": 67,
   "id": "3f45c601-ff03-4abf-a0a3-2b33e073f7b8",
   "metadata": {},
   "outputs": [
    {
     "data": {
      "text/plain": [
       "array([[104.,   0.,   0.,   0.,   1.,   0.,  17.],\n",
       "       [ 98.,   0.,   1.,   1.,   0.,   0.,  83.],\n",
       "       [101.,   1.,   0.,   1.,   0.,   0.,  68.],\n",
       "       [ 99.,   0.,   1.,   0.,   0.,   0.,  72.],\n",
       "       [102.,   1.,   1.,   1.,   0.,   0.,  20.],\n",
       "       [103.,   0.,   0.,   0.,   1.,   0.,  50.],\n",
       "       [ 98.,   1.,   0.,   0.,   1.,   0.,  71.],\n",
       "       [ 99.,   0.,   0.,   0.,   0.,   1.,  14.],\n",
       "       [101.,   0.,   0.,   1.,   0.,   0.,  75.],\n",
       "       [103.,   0.,   1.,   0.,   1.,   0.,  60.],\n",
       "       [ 98.,   0.,   0.,   0.,   0.,   0.,  64.],\n",
       "       [101.,   0.,   1.,   1.,   0.,   0.,  15.],\n",
       "       [ 98.,   1.,   1.,   0.,   1.,   0.,  34.],\n",
       "       [ 98.,   0.,   0.,   0.,   1.,   0.,  26.],\n",
       "       [ 99.,   1.,   0.,   1.,   0.,   0.,  59.],\n",
       "       [101.,   0.,   0.,   0.,   0.,   1.,  65.],\n",
       "       [100.,   0.,   1.,   0.,   0.,   0.,  80.],\n",
       "       [101.,   0.,   0.,   0.,   1.,   0.,   8.],\n",
       "       [ 99.,   1.,   0.,   0.,   1.,   0.,  25.],\n",
       "       [103.,   0.,   1.,   0.,   1.,   0.,  83.]])"
      ]
     },
     "execution_count": 67,
     "metadata": {},
     "output_type": "execute_result"
    }
   ],
   "source": [
    "transformer.transform(x_test)"
   ]
  },
  {
   "cell_type": "code",
   "execution_count": null,
   "id": "24adb549-9e02-448e-b8ea-6bf2c2e51c42",
   "metadata": {},
   "outputs": [],
   "source": []
  },
  {
   "cell_type": "code",
   "execution_count": null,
   "id": "a9f6cccb-9a4e-4a6e-bdf3-c4c2dbf10664",
   "metadata": {},
   "outputs": [],
   "source": []
  },
  {
   "cell_type": "code",
   "execution_count": null,
   "id": "8580c762-3b54-488f-a276-bf80d8a5dd0f",
   "metadata": {},
   "outputs": [],
   "source": []
  }
 ],
 "metadata": {
  "jupytext": {
   "formats": "ipynb,auto:light"
  },
  "kernelspec": {
   "display_name": "Python 3 (ipykernel)",
   "language": "python",
   "name": "python3"
  },
  "language_info": {
   "codemirror_mode": {
    "name": "ipython",
    "version": 3
   },
   "file_extension": ".py",
   "mimetype": "text/x-python",
   "name": "python",
   "nbconvert_exporter": "python",
   "pygments_lexer": "ipython3",
   "version": "3.12.2"
  }
 },
 "nbformat": 4,
 "nbformat_minor": 5
}
