{
 "cells": [
  {
   "cell_type": "code",
   "execution_count": null,
   "id": "81de7fa5-aaac-4605-ae27-15939175db05",
   "metadata": {},
   "outputs": [],
   "source": [
    "import numpy as np\n",
    "import pandas as pd\n",
    "\n",
    "# Seed for reproducibility\n",
    "np.random.seed(42)\n",
    "\n",
    "# Generate 1000 samples\n",
    "n_samples = 1000\n",
    "\n",
    "# ----------------------------------------------------\n",
    "# Column 1: Income (Log-normal + Extreme Outliers)\n",
    "# ----------------------------------------------------\n",
    "income = np.random.lognormal(mean=10.5, sigma=0.8, size=n_samples-10)\n",
    "income = np.append(income, [500000, 750000, 1e6, 1.2e6, 2e6, 3e6, 5e6, 2.5e6, 4e6, 1.8e6])\n",
    "\n",
    "# ----------------------------------------------------\n",
    "# Column 2: Website_Visits (Poisson + Severe Outliers)\n",
    "# ----------------------------------------------------\n",
    "web_visits = np.random.poisson(lam=10, size=n_samples-15)\n",
    "web_visits = np.append(web_visits, [1000, 1500, 2000, 800, 1200, 2500, 3000, \n",
    "                                   1800, 950, 2200, 3500, 4000, 2800, 1500, 5000])\n",
    "\n",
    "# ----------------------------------------------------\n",
    "# Column 3: Transaction_Amt (Gamma + Extreme Outliers)\n",
    "# ----------------------------------------------------\n",
    "transactions = np.random.gamma(shape=2, scale=100, size=n_samples-8)\n",
    "transactions = np.append(transactions, [10000, 50000, 25000, 75000, 1e5, 2e5, 5e5, 3e5])\n",
    "\n",
    "# ----------------------------------------------------\n",
    "# Column 4: City_Population (Pareto + Mega Cities)\n",
    "# ----------------------------------------------------\n",
    "city_pop = np.random.pareto(a=1.5, size=n_samples-5) * 10000  # Base population\n",
    "city_pop = np.append(city_pop, [1e7, 2.5e7, 5e7, 1.5e7, 3e7])  # Mega cities\n",
    "\n",
    "# Create DataFrame\n",
    "df = pd.DataFrame({\n",
    "    'Income': income,\n",
    "    'Website_Visits': web_visits,\n",
    "    'Transaction_Amt': transactions,\n",
    "    'City_Population': city_pop\n",
    "})\n",
    "\n",
    "# Save to CSV\n",
    "df.to_csv('skewed_data_with_outliers.csv', index=False)"
   ]
  }
 ],
 "metadata": {
  "kernelspec": {
   "display_name": "Python 3 (ipykernel)",
   "language": "python",
   "name": "python3"
  },
  "language_info": {
   "codemirror_mode": {
    "name": "ipython",
    "version": 3
   },
   "file_extension": ".py",
   "mimetype": "text/x-python",
   "name": "python",
   "nbconvert_exporter": "python",
   "pygments_lexer": "ipython3",
   "version": "3.13.3"
  }
 },
 "nbformat": 4,
 "nbformat_minor": 5
}
